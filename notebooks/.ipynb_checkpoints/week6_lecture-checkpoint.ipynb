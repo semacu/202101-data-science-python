{
 "cells": [
  {
   "cell_type": "markdown",
   "id": "industrial-facing",
   "metadata": {},
   "source": [
    "# Week 6  - An introduction to machine learning (Part II)\n",
    "### Motivation\n",
    "\n",
    "Continuation of last week's lecture on ML regression techniques to classification: first we'll look at the Titanic dataset, then the classic [MNIST](http://yann.lecun.com/exdb/mnist/) digit recognition problem, introducing cross validation and hyperparameter search along the way.\n",
    "\n",
    "In the recap lecture, I'll briefly show how these techniques can be applied to natural language, by analysing the 100K MovieLens [dataset](https://grouplens.org/datasets/movielens/).\n",
    "\n",
    "\n",
    "### Aims\n",
    "\n",
    "- Examine how use ML learning to predict the survival chances of Titanic passengers.\n",
    "- Show how machine learning techniques are not restricted to working with tables of numbers, by automatically classifying digits in the classic ML image recognition problem on the \"MNIST\" dataset.\n",
    "- Show how we can be more systematic about how we pick the 'best' model, but introducting metrics, cross-validation, hyperparameter search.\n",
    "- Introduce the homework with a hands-on with data from a [nature machine intelligence](https://www.nature.com/natmachintell/) paper, [\"An interpretable mortality prediction model for COVID-19 patients\"](https://www.nature.com/articles/s42256-020-0180-7)."
   ]
  },
  {
   "cell_type": "markdown",
   "id": "oriental-disclaimer",
   "metadata": {},
   "source": [
    "## 0. Setup\n",
    "\n",
    "Refer to setup instructions from Lecture 5."
   ]
  },
  {
   "cell_type": "markdown",
   "id": "outdoor-generator",
   "metadata": {},
   "source": [
    "## 1. Predicting passenger survival on the Titanic\n",
    "\n",
    "We base the example on an example analysis from [GitHub](https://github.com/geodra/Titanic-Dataset)."
   ]
  },
  {
   "cell_type": "markdown",
   "id": "peripheral-outreach",
   "metadata": {},
   "source": [
    "### Titanic datasets\n",
    "\n",
    "https://web.stanford.edu/class/archive/cs/cs109/cs109.1166/stuff/titanic.csv\n",
    "\n",
    "https://www.openml.org/d/40945\n",
    "\n",
    "https://www.openml.org/data/get_csv/16826755/phpMYEkMl\n",
    "\n",
    "http://bit.ly/1juuXIr"
   ]
  },
  {
   "cell_type": "markdown",
   "id": "laughing-barbados",
   "metadata": {},
   "source": [
    "Download and take a look at the data"
   ]
  },
  {
   "cell_type": "code",
   "execution_count": 1,
   "id": "extended-township",
   "metadata": {},
   "outputs": [],
   "source": [
    "import urllib, os \n",
    "\n",
    "titanic_path = '../data/titanic.csv'\n",
    "if not os.path.exists(titanic_path):\n",
    "    urllib.request.urlretrieve('https://www.openml.org/data/get_csv/16826755/phpMYEkMl', titanic_path)"
   ]
  },
  {
   "cell_type": "code",
   "execution_count": 2,
   "id": "celtic-glossary",
   "metadata": {},
   "outputs": [],
   "source": [
    "import pandas as pd\n",
    "titanic = pd.read_csv(\"../data/titanic.csv\")"
   ]
  },
  {
   "cell_type": "markdown",
   "id": "variable-remove",
   "metadata": {},
   "source": [
    "Let's first explore the dataset to see what we're working with."
   ]
  },
  {
   "cell_type": "code",
   "execution_count": 3,
   "id": "manufactured-consensus",
   "metadata": {},
   "outputs": [
    {
     "data": {
      "text/html": [
       "<div>\n",
       "<style scoped>\n",
       "    .dataframe tbody tr th:only-of-type {\n",
       "        vertical-align: middle;\n",
       "    }\n",
       "\n",
       "    .dataframe tbody tr th {\n",
       "        vertical-align: top;\n",
       "    }\n",
       "\n",
       "    .dataframe thead th {\n",
       "        text-align: right;\n",
       "    }\n",
       "</style>\n",
       "<table border=\"1\" class=\"dataframe\">\n",
       "  <thead>\n",
       "    <tr style=\"text-align: right;\">\n",
       "      <th></th>\n",
       "      <th>pclass</th>\n",
       "      <th>survived</th>\n",
       "      <th>name</th>\n",
       "      <th>sex</th>\n",
       "      <th>age</th>\n",
       "      <th>sibsp</th>\n",
       "      <th>parch</th>\n",
       "      <th>ticket</th>\n",
       "      <th>fare</th>\n",
       "      <th>cabin</th>\n",
       "      <th>embarked</th>\n",
       "      <th>boat</th>\n",
       "      <th>body</th>\n",
       "      <th>home.dest</th>\n",
       "    </tr>\n",
       "  </thead>\n",
       "  <tbody>\n",
       "    <tr>\n",
       "      <th>651</th>\n",
       "      <td>3</td>\n",
       "      <td>0</td>\n",
       "      <td>Attalah, Mr. Sleiman</td>\n",
       "      <td>male</td>\n",
       "      <td>30</td>\n",
       "      <td>0</td>\n",
       "      <td>0</td>\n",
       "      <td>2694</td>\n",
       "      <td>7.225</td>\n",
       "      <td>?</td>\n",
       "      <td>C</td>\n",
       "      <td>?</td>\n",
       "      <td>?</td>\n",
       "      <td>Ottawa, ON</td>\n",
       "    </tr>\n",
       "    <tr>\n",
       "      <th>366</th>\n",
       "      <td>2</td>\n",
       "      <td>0</td>\n",
       "      <td>Carter, Rev. Ernest Courtenay</td>\n",
       "      <td>male</td>\n",
       "      <td>54</td>\n",
       "      <td>1</td>\n",
       "      <td>0</td>\n",
       "      <td>244252</td>\n",
       "      <td>26</td>\n",
       "      <td>?</td>\n",
       "      <td>S</td>\n",
       "      <td>?</td>\n",
       "      <td>?</td>\n",
       "      <td>London</td>\n",
       "    </tr>\n",
       "    <tr>\n",
       "      <th>781</th>\n",
       "      <td>3</td>\n",
       "      <td>0</td>\n",
       "      <td>Drazenoic, Mr. Jozef</td>\n",
       "      <td>male</td>\n",
       "      <td>33</td>\n",
       "      <td>0</td>\n",
       "      <td>0</td>\n",
       "      <td>349241</td>\n",
       "      <td>7.8958</td>\n",
       "      <td>?</td>\n",
       "      <td>C</td>\n",
       "      <td>?</td>\n",
       "      <td>51</td>\n",
       "      <td>Austria Niagara Falls, NY</td>\n",
       "    </tr>\n",
       "    <tr>\n",
       "      <th>499</th>\n",
       "      <td>2</td>\n",
       "      <td>0</td>\n",
       "      <td>McCrie, Mr. James Matthew</td>\n",
       "      <td>male</td>\n",
       "      <td>30</td>\n",
       "      <td>0</td>\n",
       "      <td>0</td>\n",
       "      <td>233478</td>\n",
       "      <td>13</td>\n",
       "      <td>?</td>\n",
       "      <td>S</td>\n",
       "      <td>?</td>\n",
       "      <td>?</td>\n",
       "      <td>Sarnia, ON</td>\n",
       "    </tr>\n",
       "    <tr>\n",
       "      <th>247</th>\n",
       "      <td>1</td>\n",
       "      <td>1</td>\n",
       "      <td>Rothschild, Mrs. Martin (Elizabeth L. Barrett)</td>\n",
       "      <td>female</td>\n",
       "      <td>54</td>\n",
       "      <td>1</td>\n",
       "      <td>0</td>\n",
       "      <td>PC 17603</td>\n",
       "      <td>59.4</td>\n",
       "      <td>?</td>\n",
       "      <td>C</td>\n",
       "      <td>6</td>\n",
       "      <td>?</td>\n",
       "      <td>New York, NY</td>\n",
       "    </tr>\n",
       "  </tbody>\n",
       "</table>\n",
       "</div>"
      ],
      "text/plain": [
       "     pclass  survived                                            name     sex  \\\n",
       "651       3         0                            Attalah, Mr. Sleiman    male   \n",
       "366       2         0                   Carter, Rev. Ernest Courtenay    male   \n",
       "781       3         0                            Drazenoic, Mr. Jozef    male   \n",
       "499       2         0                       McCrie, Mr. James Matthew    male   \n",
       "247       1         1  Rothschild, Mrs. Martin (Elizabeth L. Barrett)  female   \n",
       "\n",
       "    age  sibsp  parch    ticket    fare cabin embarked boat body  \\\n",
       "651  30      0      0      2694   7.225     ?        C    ?    ?   \n",
       "366  54      1      0    244252      26     ?        S    ?    ?   \n",
       "781  33      0      0    349241  7.8958     ?        C    ?   51   \n",
       "499  30      0      0    233478      13     ?        S    ?    ?   \n",
       "247  54      1      0  PC 17603    59.4     ?        C    6    ?   \n",
       "\n",
       "                     home.dest  \n",
       "651                 Ottawa, ON  \n",
       "366                     London  \n",
       "781  Austria Niagara Falls, NY  \n",
       "499                 Sarnia, ON  \n",
       "247               New York, NY  "
      ]
     },
     "execution_count": 3,
     "metadata": {},
     "output_type": "execute_result"
    }
   ],
   "source": [
    "titanic.sample(5)"
   ]
  },
  {
   "cell_type": "code",
   "execution_count": 4,
   "id": "soviet-indianapolis",
   "metadata": {},
   "outputs": [
    {
     "data": {
      "text/plain": [
       "(1309, 14)"
      ]
     },
     "execution_count": 4,
     "metadata": {},
     "output_type": "execute_result"
    }
   ],
   "source": [
    "titanic.shape"
   ]
  },
  {
   "cell_type": "markdown",
   "id": "surface-banana",
   "metadata": {},
   "source": [
    "So we can count the missing data, let's replace the `'?'` characters with `None`. We should also extract variables that 'leak' information about the `survived` response (`body`, `boat`); and information we're going to ignore (`home.dest`)."
   ]
  },
  {
   "cell_type": "code",
   "execution_count": 5,
   "id": "accompanied-proposition",
   "metadata": {},
   "outputs": [],
   "source": [
    "titanic = titanic.replace({'?': None}).drop(['body', 'boat', 'home.dest'], axis=1)"
   ]
  },
  {
   "cell_type": "code",
   "execution_count": 6,
   "id": "geographic-bridge",
   "metadata": {},
   "outputs": [
    {
     "name": "stdout",
     "output_type": "stream",
     "text": [
      "<class 'pandas.core.frame.DataFrame'>\n",
      "RangeIndex: 1309 entries, 0 to 1308\n",
      "Data columns (total 11 columns):\n",
      " #   Column    Non-Null Count  Dtype \n",
      "---  ------    --------------  ----- \n",
      " 0   pclass    1309 non-null   int64 \n",
      " 1   survived  1309 non-null   int64 \n",
      " 2   name      1309 non-null   object\n",
      " 3   sex       1309 non-null   object\n",
      " 4   age       1046 non-null   object\n",
      " 5   sibsp     1309 non-null   int64 \n",
      " 6   parch     1309 non-null   int64 \n",
      " 7   ticket    1309 non-null   object\n",
      " 8   fare      1308 non-null   object\n",
      " 9   cabin     295 non-null    object\n",
      " 10  embarked  1307 non-null   object\n",
      "dtypes: int64(4), object(7)\n",
      "memory usage: 112.6+ KB\n"
     ]
    }
   ],
   "source": [
    "titanic.info()"
   ]
  },
  {
   "cell_type": "code",
   "execution_count": 7,
   "id": "presidential-reynolds",
   "metadata": {},
   "outputs": [
    {
     "data": {
      "text/html": [
       "<div>\n",
       "<style scoped>\n",
       "    .dataframe tbody tr th:only-of-type {\n",
       "        vertical-align: middle;\n",
       "    }\n",
       "\n",
       "    .dataframe tbody tr th {\n",
       "        vertical-align: top;\n",
       "    }\n",
       "\n",
       "    .dataframe thead th {\n",
       "        text-align: right;\n",
       "    }\n",
       "</style>\n",
       "<table border=\"1\" class=\"dataframe\">\n",
       "  <thead>\n",
       "    <tr style=\"text-align: right;\">\n",
       "      <th></th>\n",
       "      <th>pclass</th>\n",
       "      <th>survived</th>\n",
       "      <th>name</th>\n",
       "      <th>sex</th>\n",
       "      <th>age</th>\n",
       "      <th>sibsp</th>\n",
       "      <th>parch</th>\n",
       "      <th>ticket</th>\n",
       "      <th>fare</th>\n",
       "      <th>cabin</th>\n",
       "      <th>embarked</th>\n",
       "    </tr>\n",
       "  </thead>\n",
       "  <tbody>\n",
       "    <tr>\n",
       "      <th>count</th>\n",
       "      <td>1309.000000</td>\n",
       "      <td>1309.000000</td>\n",
       "      <td>1309</td>\n",
       "      <td>1309</td>\n",
       "      <td>1046</td>\n",
       "      <td>1309.000000</td>\n",
       "      <td>1309.000000</td>\n",
       "      <td>1309</td>\n",
       "      <td>1308</td>\n",
       "      <td>295</td>\n",
       "      <td>1307</td>\n",
       "    </tr>\n",
       "    <tr>\n",
       "      <th>unique</th>\n",
       "      <td>NaN</td>\n",
       "      <td>NaN</td>\n",
       "      <td>1307</td>\n",
       "      <td>2</td>\n",
       "      <td>98</td>\n",
       "      <td>NaN</td>\n",
       "      <td>NaN</td>\n",
       "      <td>929</td>\n",
       "      <td>281</td>\n",
       "      <td>186</td>\n",
       "      <td>3</td>\n",
       "    </tr>\n",
       "    <tr>\n",
       "      <th>top</th>\n",
       "      <td>NaN</td>\n",
       "      <td>NaN</td>\n",
       "      <td>Kelly, Mr. James</td>\n",
       "      <td>male</td>\n",
       "      <td>24</td>\n",
       "      <td>NaN</td>\n",
       "      <td>NaN</td>\n",
       "      <td>CA. 2343</td>\n",
       "      <td>8.05</td>\n",
       "      <td>C23 C25 C27</td>\n",
       "      <td>S</td>\n",
       "    </tr>\n",
       "    <tr>\n",
       "      <th>freq</th>\n",
       "      <td>NaN</td>\n",
       "      <td>NaN</td>\n",
       "      <td>2</td>\n",
       "      <td>843</td>\n",
       "      <td>47</td>\n",
       "      <td>NaN</td>\n",
       "      <td>NaN</td>\n",
       "      <td>11</td>\n",
       "      <td>60</td>\n",
       "      <td>6</td>\n",
       "      <td>914</td>\n",
       "    </tr>\n",
       "    <tr>\n",
       "      <th>mean</th>\n",
       "      <td>2.294882</td>\n",
       "      <td>0.381971</td>\n",
       "      <td>NaN</td>\n",
       "      <td>NaN</td>\n",
       "      <td>NaN</td>\n",
       "      <td>0.498854</td>\n",
       "      <td>0.385027</td>\n",
       "      <td>NaN</td>\n",
       "      <td>NaN</td>\n",
       "      <td>NaN</td>\n",
       "      <td>NaN</td>\n",
       "    </tr>\n",
       "    <tr>\n",
       "      <th>std</th>\n",
       "      <td>0.837836</td>\n",
       "      <td>0.486055</td>\n",
       "      <td>NaN</td>\n",
       "      <td>NaN</td>\n",
       "      <td>NaN</td>\n",
       "      <td>1.041658</td>\n",
       "      <td>0.865560</td>\n",
       "      <td>NaN</td>\n",
       "      <td>NaN</td>\n",
       "      <td>NaN</td>\n",
       "      <td>NaN</td>\n",
       "    </tr>\n",
       "    <tr>\n",
       "      <th>min</th>\n",
       "      <td>1.000000</td>\n",
       "      <td>0.000000</td>\n",
       "      <td>NaN</td>\n",
       "      <td>NaN</td>\n",
       "      <td>NaN</td>\n",
       "      <td>0.000000</td>\n",
       "      <td>0.000000</td>\n",
       "      <td>NaN</td>\n",
       "      <td>NaN</td>\n",
       "      <td>NaN</td>\n",
       "      <td>NaN</td>\n",
       "    </tr>\n",
       "    <tr>\n",
       "      <th>25%</th>\n",
       "      <td>2.000000</td>\n",
       "      <td>0.000000</td>\n",
       "      <td>NaN</td>\n",
       "      <td>NaN</td>\n",
       "      <td>NaN</td>\n",
       "      <td>0.000000</td>\n",
       "      <td>0.000000</td>\n",
       "      <td>NaN</td>\n",
       "      <td>NaN</td>\n",
       "      <td>NaN</td>\n",
       "      <td>NaN</td>\n",
       "    </tr>\n",
       "    <tr>\n",
       "      <th>50%</th>\n",
       "      <td>3.000000</td>\n",
       "      <td>0.000000</td>\n",
       "      <td>NaN</td>\n",
       "      <td>NaN</td>\n",
       "      <td>NaN</td>\n",
       "      <td>0.000000</td>\n",
       "      <td>0.000000</td>\n",
       "      <td>NaN</td>\n",
       "      <td>NaN</td>\n",
       "      <td>NaN</td>\n",
       "      <td>NaN</td>\n",
       "    </tr>\n",
       "    <tr>\n",
       "      <th>75%</th>\n",
       "      <td>3.000000</td>\n",
       "      <td>1.000000</td>\n",
       "      <td>NaN</td>\n",
       "      <td>NaN</td>\n",
       "      <td>NaN</td>\n",
       "      <td>1.000000</td>\n",
       "      <td>0.000000</td>\n",
       "      <td>NaN</td>\n",
       "      <td>NaN</td>\n",
       "      <td>NaN</td>\n",
       "      <td>NaN</td>\n",
       "    </tr>\n",
       "    <tr>\n",
       "      <th>max</th>\n",
       "      <td>3.000000</td>\n",
       "      <td>1.000000</td>\n",
       "      <td>NaN</td>\n",
       "      <td>NaN</td>\n",
       "      <td>NaN</td>\n",
       "      <td>8.000000</td>\n",
       "      <td>9.000000</td>\n",
       "      <td>NaN</td>\n",
       "      <td>NaN</td>\n",
       "      <td>NaN</td>\n",
       "      <td>NaN</td>\n",
       "    </tr>\n",
       "  </tbody>\n",
       "</table>\n",
       "</div>"
      ],
      "text/plain": [
       "             pclass     survived              name   sex   age        sibsp  \\\n",
       "count   1309.000000  1309.000000              1309  1309  1046  1309.000000   \n",
       "unique          NaN          NaN              1307     2    98          NaN   \n",
       "top             NaN          NaN  Kelly, Mr. James  male    24          NaN   \n",
       "freq            NaN          NaN                 2   843    47          NaN   \n",
       "mean       2.294882     0.381971               NaN   NaN   NaN     0.498854   \n",
       "std        0.837836     0.486055               NaN   NaN   NaN     1.041658   \n",
       "min        1.000000     0.000000               NaN   NaN   NaN     0.000000   \n",
       "25%        2.000000     0.000000               NaN   NaN   NaN     0.000000   \n",
       "50%        3.000000     0.000000               NaN   NaN   NaN     0.000000   \n",
       "75%        3.000000     1.000000               NaN   NaN   NaN     1.000000   \n",
       "max        3.000000     1.000000               NaN   NaN   NaN     8.000000   \n",
       "\n",
       "              parch    ticket  fare        cabin embarked  \n",
       "count   1309.000000      1309  1308          295     1307  \n",
       "unique          NaN       929   281          186        3  \n",
       "top             NaN  CA. 2343  8.05  C23 C25 C27        S  \n",
       "freq            NaN        11    60            6      914  \n",
       "mean       0.385027       NaN   NaN          NaN      NaN  \n",
       "std        0.865560       NaN   NaN          NaN      NaN  \n",
       "min        0.000000       NaN   NaN          NaN      NaN  \n",
       "25%        0.000000       NaN   NaN          NaN      NaN  \n",
       "50%        0.000000       NaN   NaN          NaN      NaN  \n",
       "75%        0.000000       NaN   NaN          NaN      NaN  \n",
       "max        9.000000       NaN   NaN          NaN      NaN  "
      ]
     },
     "execution_count": 7,
     "metadata": {},
     "output_type": "execute_result"
    }
   ],
   "source": [
    "titanic.describe(include='all')"
   ]
  },
  {
   "cell_type": "code",
   "execution_count": 8,
   "id": "vertical-cabinet",
   "metadata": {},
   "outputs": [],
   "source": [
    "titanic['age'] = titanic.age.astype(float)"
   ]
  },
  {
   "cell_type": "code",
   "execution_count": 9,
   "id": "blond-blond",
   "metadata": {},
   "outputs": [
    {
     "data": {
      "text/plain": [
       "0    809\n",
       "1    500\n",
       "Name: survived, dtype: int64"
      ]
     },
     "execution_count": 9,
     "metadata": {},
     "output_type": "execute_result"
    }
   ],
   "source": [
    "titanic.survived.value_counts()"
   ]
  },
  {
   "cell_type": "markdown",
   "id": "speaking-equity",
   "metadata": {},
   "source": [
    "Think - what variables might be relevant here, and how might we go about looking at the data to identify relevant features."
   ]
  },
  {
   "cell_type": "markdown",
   "id": "latin-wealth",
   "metadata": {},
   "source": [
    "Always a good idea to eyeball the data."
   ]
  },
  {
   "cell_type": "code",
   "execution_count": 11,
   "id": "ruled-sydney",
   "metadata": {},
   "outputs": [],
   "source": [
    "titanic['person'] = titanic.apply(lambda x: 'child' if x.age < 18 else x.sex, axis=1)"
   ]
  },
  {
   "cell_type": "code",
   "execution_count": 12,
   "id": "experimental-mustang",
   "metadata": {},
   "outputs": [],
   "source": [
    "plot_data = pd.crosstab(index=titanic['person'], columns=titanic['pclass'], values=titanic.index, aggfunc=pd.Series.count).stack().rename(\"counts\").reset_index()"
   ]
  },
  {
   "cell_type": "code",
   "execution_count": 13,
   "id": "verbal-blank",
   "metadata": {},
   "outputs": [
    {
     "data": {
      "image/png": "[encoded data removed]",
      "text/plain": [
       "<Figure size 640x480 with 1 Axes>"
      ]
     },
     "metadata": {},
     "output_type": "display_data"
    },
    {
     "data": {
      "text/plain": [
       "<ggplot: (8776484951230)>"
      ]
     },
     "execution_count": 13,
     "metadata": {},
     "output_type": "execute_result"
    }
   ],
   "source": [
    "import plotnine as p9\n",
    "dodge_text = p9.position_dodge(width=0.9) \n",
    "(\n",
    "    p9.ggplot(plot_data, p9.aes(x='pclass', y='counts', fill='person'))\n",
    "    + p9.geom_col(stat='identity', position='dodge', show_legend=False)\n",
    "    + p9.geom_text(p9.aes(y=-.5, label='person'),\n",
    "             position=dodge_text,\n",
    "             color='gray', size=8, angle=45, va='top')\n",
    "         + p9.lims(y=(-30, 450))  \n",
    ")"
   ]
  },
  {
   "cell_type": "code",
   "execution_count": 14,
   "id": "shaped-position",
   "metadata": {},
   "outputs": [
    {
     "data": {
      "text/plain": [
       "<AxesSubplot:>"
      ]
     },
     "execution_count": 14,
     "metadata": {},
     "output_type": "execute_result"
    },
    {
     "data": {
      "image/png": "[encoded data removed]",
      "text/plain": [
       "<Figure size 432x288 with 1 Axes>"
      ]
     },
     "metadata": {
      "needs_background": "light"
     },
     "output_type": "display_data"
    }
   ],
   "source": [
    "titanic.age.hist()"
   ]
  },
  {
   "cell_type": "code",
   "execution_count": 15,
   "id": "domestic-gentleman",
   "metadata": {},
   "outputs": [],
   "source": [
    "import numpy as np\n",
    "import re\n",
    "from sklearn.model_selection import train_test_split"
   ]
  },
  {
   "cell_type": "code",
   "execution_count": 16,
   "id": "immediate-monday",
   "metadata": {},
   "outputs": [
    {
     "data": {
      "text/html": [
       "<div>\n",
       "<style scoped>\n",
       "    .dataframe tbody tr th:only-of-type {\n",
       "        vertical-align: middle;\n",
       "    }\n",
       "\n",
       "    .dataframe tbody tr th {\n",
       "        vertical-align: top;\n",
       "    }\n",
       "\n",
       "    .dataframe thead th {\n",
       "        text-align: right;\n",
       "    }\n",
       "</style>\n",
       "<table border=\"1\" class=\"dataframe\">\n",
       "  <thead>\n",
       "    <tr style=\"text-align: right;\">\n",
       "      <th></th>\n",
       "      <th>pclass</th>\n",
       "      <th>survived</th>\n",
       "      <th>name</th>\n",
       "      <th>sex</th>\n",
       "      <th>age</th>\n",
       "      <th>sibsp</th>\n",
       "      <th>parch</th>\n",
       "      <th>ticket</th>\n",
       "      <th>fare</th>\n",
       "      <th>cabin</th>\n",
       "      <th>embarked</th>\n",
       "      <th>person</th>\n",
       "    </tr>\n",
       "  </thead>\n",
       "  <tbody>\n",
       "    <tr>\n",
       "      <th>0</th>\n",
       "      <td>1</td>\n",
       "      <td>1</td>\n",
       "      <td>Allen, Miss. Elisabeth Walton</td>\n",
       "      <td>female</td>\n",
       "      <td>29.0000</td>\n",
       "      <td>0</td>\n",
       "      <td>0</td>\n",
       "      <td>24160</td>\n",
       "      <td>211.3375</td>\n",
       "      <td>B5</td>\n",
       "      <td>S</td>\n",
       "      <td>female</td>\n",
       "    </tr>\n",
       "    <tr>\n",
       "      <th>1</th>\n",
       "      <td>1</td>\n",
       "      <td>1</td>\n",
       "      <td>Allison, Master. Hudson Trevor</td>\n",
       "      <td>male</td>\n",
       "      <td>0.9167</td>\n",
       "      <td>1</td>\n",
       "      <td>2</td>\n",
       "      <td>113781</td>\n",
       "      <td>151.55</td>\n",
       "      <td>C22 C26</td>\n",
       "      <td>S</td>\n",
       "      <td>child</td>\n",
       "    </tr>\n",
       "    <tr>\n",
       "      <th>2</th>\n",
       "      <td>1</td>\n",
       "      <td>0</td>\n",
       "      <td>Allison, Miss. Helen Loraine</td>\n",
       "      <td>female</td>\n",
       "      <td>2.0000</td>\n",
       "      <td>1</td>\n",
       "      <td>2</td>\n",
       "      <td>113781</td>\n",
       "      <td>151.55</td>\n",
       "      <td>C22 C26</td>\n",
       "      <td>S</td>\n",
       "      <td>child</td>\n",
       "    </tr>\n",
       "    <tr>\n",
       "      <th>3</th>\n",
       "      <td>1</td>\n",
       "      <td>0</td>\n",
       "      <td>Allison, Mr. Hudson Joshua Creighton</td>\n",
       "      <td>male</td>\n",
       "      <td>30.0000</td>\n",
       "      <td>1</td>\n",
       "      <td>2</td>\n",
       "      <td>113781</td>\n",
       "      <td>151.55</td>\n",
       "      <td>C22 C26</td>\n",
       "      <td>S</td>\n",
       "      <td>male</td>\n",
       "    </tr>\n",
       "    <tr>\n",
       "      <th>4</th>\n",
       "      <td>1</td>\n",
       "      <td>0</td>\n",
       "      <td>Allison, Mrs. Hudson J C (Bessie Waldo Daniels)</td>\n",
       "      <td>female</td>\n",
       "      <td>25.0000</td>\n",
       "      <td>1</td>\n",
       "      <td>2</td>\n",
       "      <td>113781</td>\n",
       "      <td>151.55</td>\n",
       "      <td>C22 C26</td>\n",
       "      <td>S</td>\n",
       "      <td>female</td>\n",
       "    </tr>\n",
       "  </tbody>\n",
       "</table>\n",
       "</div>"
      ],
      "text/plain": [
       "   pclass  survived                                             name     sex  \\\n",
       "0       1         1                    Allen, Miss. Elisabeth Walton  female   \n",
       "1       1         1                   Allison, Master. Hudson Trevor    male   \n",
       "2       1         0                     Allison, Miss. Helen Loraine  female   \n",
       "3       1         0             Allison, Mr. Hudson Joshua Creighton    male   \n",
       "4       1         0  Allison, Mrs. Hudson J C (Bessie Waldo Daniels)  female   \n",
       "\n",
       "       age  sibsp  parch  ticket      fare    cabin embarked  person  \n",
       "0  29.0000      0      0   24160  211.3375       B5        S  female  \n",
       "1   0.9167      1      2  113781    151.55  C22 C26        S   child  \n",
       "2   2.0000      1      2  113781    151.55  C22 C26        S   child  \n",
       "3  30.0000      1      2  113781    151.55  C22 C26        S    male  \n",
       "4  25.0000      1      2  113781    151.55  C22 C26        S  female  "
      ]
     },
     "execution_count": 16,
     "metadata": {},
     "output_type": "execute_result"
    }
   ],
   "source": [
    "titanic.head()"
   ]
  },
  {
   "cell_type": "code",
   "execution_count": 17,
   "id": "varied-property",
   "metadata": {},
   "outputs": [],
   "source": [
    "def extract_title(data):\n",
    "    titles = data.name.apply(lambda x: re.search('([A-Za-z]+)\\.', x).group(0))\n",
    "    l = ['Miss.','Master.','Mr.','Mrs.']\n",
    "    titles = (\n",
    "        titles.replace('Mlle.', 'Miss.')\n",
    "        .replace('Ms.', 'Miss.')\n",
    "        .replace('Mme.', 'Mrs.')\n",
    "        .apply(lambda x: 'Rare' if x not in l else x)\n",
    "    )\n",
    "    return titles"
   ]
  },
  {
   "cell_type": "code",
   "execution_count": 19,
   "id": "growing-administrator",
   "metadata": {},
   "outputs": [
    {
     "data": {
      "text/plain": [
       "Mr.        757\n",
       "Miss.      264\n",
       "Mrs.       198\n",
       "Master.     61\n",
       "Rare        29\n",
       "Name: name, dtype: int64"
      ]
     },
     "execution_count": 19,
     "metadata": {},
     "output_type": "execute_result"
    }
   ],
   "source": [
    "extract_title(titanic).value_counts()"
   ]
  },
  {
   "cell_type": "code",
   "execution_count": 22,
   "id": "graphic-monthly",
   "metadata": {},
   "outputs": [],
   "source": [
    "def impute_age(data):\n",
    "    from random import randrange, uniform\n",
    "    \n",
    "    grouped_means = data.groupby(['sex','pclass','title']).mean().age.reset_index()\n",
    "    grouped_stds = data.groupby(['sex','pclass','title']).std().age.reset_index()\n",
    "    \n",
    "    def fill_age(row):\n",
    "        condition = (\n",
    "            (grouped_means['sex'] == row['sex']) & \n",
    "            (grouped_means['title'] == row['title']) & \n",
    "            (grouped_means['pclass'] == row['pclass'])\n",
    "        ) \n",
    "        mean = grouped_means[condition]['age'].values[0]\n",
    "        std = grouped_stds[condition]['age'].values[0]\n",
    "        return uniform(mean-std, mean+std)\n",
    "\n",
    "    return data.apply(lambda row: fill_age(row) if np.isnan(row['age']) else row['age'], axis=1)"
   ]
  },
  {
   "cell_type": "code",
   "execution_count": 21,
   "id": "another-choice",
   "metadata": {},
   "outputs": [
    {
     "data": {
      "text/plain": [
       "0       29.000000\n",
       "1        0.916700\n",
       "2        2.000000\n",
       "3       30.000000\n",
       "4       25.000000\n",
       "          ...    \n",
       "1304    14.500000\n",
       "1305    11.499689\n",
       "1306    26.500000\n",
       "1307    27.000000\n",
       "1308    29.000000\n",
       "Length: 1309, dtype: float64"
      ]
     },
     "execution_count": 21,
     "metadata": {},
     "output_type": "execute_result"
    }
   ],
   "source": [
    "titanic['title'] = extract_title(titanic)\n",
    "impute_age(titanic)"
   ]
  },
  {
   "cell_type": "code",
   "execution_count": 27,
   "id": "atomic-brake",
   "metadata": {},
   "outputs": [],
   "source": [
    "def impute_fare(data):\n",
    "    fare = data.fare.astype(float)\n",
    "    return fare.fillna(fare.mean())\n",
    "\n",
    "def impute_embarked(data):\n",
    "    return data.embarked.fillna(data.embarked.mode()[0])\n",
    "\n",
    "def binarize_sex(data):\n",
    "    return data['sex'].apply(lambda x: 1 if x=='male' else 0)\n",
    "\n",
    "def impute_cabin(data):\n",
    "    \"\"\"Fill with model and map each cabin value with the cabin letter.\"\"\"\n",
    "    return data.cabin.fillna(data.cabin.mode()).map(lambda c: str(c)[0])\n",
    "\n",
    "def categorise_pclass(data):\n",
    "    return data.pclass.astype('category')"
   ]
  },
  {
   "cell_type": "code",
   "execution_count": 28,
   "id": "bulgarian-islam",
   "metadata": {},
   "outputs": [
    {
     "data": {
      "text/plain": [
       "0    C23 C25 C27\n",
       "dtype: object"
      ]
     },
     "execution_count": 28,
     "metadata": {},
     "output_type": "execute_result"
    }
   ],
   "source": [
    "titanic.cabin.mode()"
   ]
  },
  {
   "cell_type": "code",
   "execution_count": 29,
   "id": "medieval-noise",
   "metadata": {},
   "outputs": [
    {
     "data": {
      "text/plain": [
       "n    1014\n",
       "C      94\n",
       "B      65\n",
       "D      46\n",
       "E      41\n",
       "A      22\n",
       "F      21\n",
       "G       5\n",
       "T       1\n",
       "Name: cabin, dtype: int64"
      ]
     },
     "execution_count": 29,
     "metadata": {},
     "output_type": "execute_result"
    }
   ],
   "source": [
    "impute_cabin(titanic).value_counts()"
   ]
  },
  {
   "cell_type": "code",
   "execution_count": 30,
   "id": "electoral-rocket",
   "metadata": {},
   "outputs": [],
   "source": [
    "def generate_family_features(data):\n",
    "    familysize = data['parch'] + data['sibsp'] + 1\n",
    "    singleton = familysize.apply(lambda s: 1 if s == 1 else 0)\n",
    "    smallfamily = familysize.apply(lambda s: 1 if 2 <= s <= 4 else 0)\n",
    "    largefamily = familysize.apply(lambda s: 1 if 5 <= s else 0)\n",
    "    return pd.DataFrame({\n",
    "        'familysize': familysize,\n",
    "        'singleton': singleton,\n",
    "        'smallfamily': smallfamily,\n",
    "        'largefamily': largefamily\n",
    "    })"
   ]
  },
  {
   "cell_type": "code",
   "execution_count": 31,
   "id": "urban-spanish",
   "metadata": {},
   "outputs": [
    {
     "data": {
      "text/html": [
       "<div>\n",
       "<style scoped>\n",
       "    .dataframe tbody tr th:only-of-type {\n",
       "        vertical-align: middle;\n",
       "    }\n",
       "\n",
       "    .dataframe tbody tr th {\n",
       "        vertical-align: top;\n",
       "    }\n",
       "\n",
       "    .dataframe thead th {\n",
       "        text-align: right;\n",
       "    }\n",
       "</style>\n",
       "<table border=\"1\" class=\"dataframe\">\n",
       "  <thead>\n",
       "    <tr style=\"text-align: right;\">\n",
       "      <th></th>\n",
       "      <th>familysize</th>\n",
       "      <th>singleton</th>\n",
       "      <th>smallfamily</th>\n",
       "      <th>largefamily</th>\n",
       "    </tr>\n",
       "  </thead>\n",
       "  <tbody>\n",
       "    <tr>\n",
       "      <th>0</th>\n",
       "      <td>1</td>\n",
       "      <td>1</td>\n",
       "      <td>0</td>\n",
       "      <td>0</td>\n",
       "    </tr>\n",
       "    <tr>\n",
       "      <th>1</th>\n",
       "      <td>4</td>\n",
       "      <td>0</td>\n",
       "      <td>1</td>\n",
       "      <td>0</td>\n",
       "    </tr>\n",
       "    <tr>\n",
       "      <th>2</th>\n",
       "      <td>4</td>\n",
       "      <td>0</td>\n",
       "      <td>1</td>\n",
       "      <td>0</td>\n",
       "    </tr>\n",
       "    <tr>\n",
       "      <th>3</th>\n",
       "      <td>4</td>\n",
       "      <td>0</td>\n",
       "      <td>1</td>\n",
       "      <td>0</td>\n",
       "    </tr>\n",
       "    <tr>\n",
       "      <th>4</th>\n",
       "      <td>4</td>\n",
       "      <td>0</td>\n",
       "      <td>1</td>\n",
       "      <td>0</td>\n",
       "    </tr>\n",
       "    <tr>\n",
       "      <th>...</th>\n",
       "      <td>...</td>\n",
       "      <td>...</td>\n",
       "      <td>...</td>\n",
       "      <td>...</td>\n",
       "    </tr>\n",
       "    <tr>\n",
       "      <th>1304</th>\n",
       "      <td>2</td>\n",
       "      <td>0</td>\n",
       "      <td>1</td>\n",
       "      <td>0</td>\n",
       "    </tr>\n",
       "    <tr>\n",
       "      <th>1305</th>\n",
       "      <td>2</td>\n",
       "      <td>0</td>\n",
       "      <td>1</td>\n",
       "      <td>0</td>\n",
       "    </tr>\n",
       "    <tr>\n",
       "      <th>1306</th>\n",
       "      <td>1</td>\n",
       "      <td>1</td>\n",
       "      <td>0</td>\n",
       "      <td>0</td>\n",
       "    </tr>\n",
       "    <tr>\n",
       "      <th>1307</th>\n",
       "      <td>1</td>\n",
       "      <td>1</td>\n",
       "      <td>0</td>\n",
       "      <td>0</td>\n",
       "    </tr>\n",
       "    <tr>\n",
       "      <th>1308</th>\n",
       "      <td>1</td>\n",
       "      <td>1</td>\n",
       "      <td>0</td>\n",
       "      <td>0</td>\n",
       "    </tr>\n",
       "  </tbody>\n",
       "</table>\n",
       "<p>1309 rows × 4 columns</p>\n",
       "</div>"
      ],
      "text/plain": [
       "      familysize  singleton  smallfamily  largefamily\n",
       "0              1          1            0            0\n",
       "1              4          0            1            0\n",
       "2              4          0            1            0\n",
       "3              4          0            1            0\n",
       "4              4          0            1            0\n",
       "...          ...        ...          ...          ...\n",
       "1304           2          0            1            0\n",
       "1305           2          0            1            0\n",
       "1306           1          1            0            0\n",
       "1307           1          1            0            0\n",
       "1308           1          1            0            0\n",
       "\n",
       "[1309 rows x 4 columns]"
      ]
     },
     "execution_count": 31,
     "metadata": {},
     "output_type": "execute_result"
    }
   ],
   "source": [
    "generate_family_features(titanic)"
   ]
  },
  {
   "cell_type": "code",
   "execution_count": 32,
   "id": "floral-mineral",
   "metadata": {},
   "outputs": [
    {
     "data": {
      "text/plain": [
       "CA. 2343        11\n",
       "1601             8\n",
       "CA 2144          8\n",
       "S.O.C. 14879     7\n",
       "347082           7\n",
       "                ..\n",
       "349240           1\n",
       "364850           1\n",
       "347068           1\n",
       "2621             1\n",
       "315093           1\n",
       "Name: ticket, Length: 929, dtype: int64"
      ]
     },
     "execution_count": 32,
     "metadata": {},
     "output_type": "execute_result"
    }
   ],
   "source": [
    "titanic.ticket.value_counts()"
   ]
  },
  {
   "cell_type": "code",
   "execution_count": 25,
   "id": "specialized-graduation",
   "metadata": {},
   "outputs": [],
   "source": [
    "def categorise_ticket(data):\n",
    "    return data.ticket.astype('category').cat.codes"
   ]
  },
  {
   "cell_type": "code",
   "execution_count": 26,
   "id": "exempt-miracle",
   "metadata": {},
   "outputs": [
    {
     "data": {
      "text/plain": [
       "0        24160\n",
       "1       113781\n",
       "2       113781\n",
       "3       113781\n",
       "4       113781\n",
       "         ...  \n",
       "1304      2665\n",
       "1305      2665\n",
       "1306      2656\n",
       "1307      2670\n",
       "1308    315082\n",
       "Name: ticket, Length: 1309, dtype: object"
      ]
     },
     "execution_count": 26,
     "metadata": {},
     "output_type": "execute_result"
    }
   ],
   "source": [
    "titanic.ticket"
   ]
  },
  {
   "cell_type": "code",
   "execution_count": 27,
   "id": "saving-performer",
   "metadata": {},
   "outputs": [
    {
     "data": {
      "text/plain": [
       "778    11\n",
       "104     8\n",
       "775     8\n",
       "847     7\n",
       "824     7\n",
       "       ..\n",
       "531     1\n",
       "530     1\n",
       "529     1\n",
       "528     1\n",
       "422     1\n",
       "Length: 929, dtype: int64"
      ]
     },
     "execution_count": 27,
     "metadata": {},
     "output_type": "execute_result"
    }
   ],
   "source": [
    "categorise_ticket(titanic).value_counts()"
   ]
  },
  {
   "cell_type": "code",
   "execution_count": 28,
   "id": "directed-cleanup",
   "metadata": {},
   "outputs": [],
   "source": [
    "def extract_ticket_prefix(data):\n",
    "    \"\"\"Extracts each prefix of the ticket, returns 'XXX' if no prefix.\"\"\"\n",
    "    def prefix(ticket):\n",
    "        ticket = ticket.split()\n",
    "        if ticket[0].isdigit():\n",
    "            return 'XXX'\n",
    "        return ticket[0]\n",
    "\n",
    "    return data.ticket.map(prefix)"
   ]
  },
  {
   "cell_type": "code",
   "execution_count": 29,
   "id": "processed-deployment",
   "metadata": {},
   "outputs": [
    {
     "data": {
      "text/plain": [
       "XXX           957\n",
       "PC             92\n",
       "C.A.           46\n",
       "SOTON/O.Q.     16\n",
       "W./C.          14\n",
       "STON/O         14\n",
       "A/5            12\n",
       "CA.            12\n",
       "SC/PARIS       11\n",
       "CA             10\n",
       "A/5.           10\n",
       "F.C.C.          9\n",
       "SOTON/OQ        8\n",
       "C               8\n",
       "S.O./P.P.       7\n",
       "STON/O2.        7\n",
       "S.O.C.          7\n",
       "A/4             6\n",
       "SC/AH           5\n",
       "SC/Paris        5\n",
       "PP              4\n",
       "LINE            4\n",
       "SOTON/O2        3\n",
       "F.C.            3\n",
       "A/4.            3\n",
       "S.C./PARIS      3\n",
       "A.5.            3\n",
       "A./5.           3\n",
       "WE/P            2\n",
       "SC              2\n",
       "P/PP            2\n",
       "W.E.P.          2\n",
       "S.C./A.4.       1\n",
       "S.P.            1\n",
       "Fa              1\n",
       "SC/A4           1\n",
       "SW/PP           1\n",
       "S.O.P.          1\n",
       "SCO/W           1\n",
       "SC/A.3          1\n",
       "SO/C            1\n",
       "S.W./PP         1\n",
       "AQ/4            1\n",
       "AQ/3.           1\n",
       "A.              1\n",
       "STON/OQ.        1\n",
       "W/C             1\n",
       "A4.             1\n",
       "A/S             1\n",
       "C.A./SOTON      1\n",
       "LP              1\n",
       "Name: ticket, dtype: int64"
      ]
     },
     "execution_count": 29,
     "metadata": {},
     "output_type": "execute_result"
    }
   ],
   "source": [
    "extract_ticket_prefix(titanic).value_counts()"
   ]
  },
  {
   "cell_type": "code",
   "execution_count": 33,
   "id": "pharmaceutical-fossil",
   "metadata": {},
   "outputs": [],
   "source": [
    "def generate_categorical_features(data):\n",
    "    data['title'] = extract_title(data)\n",
    "    data['pclass'] = categorise_pclass(data)\n",
    "    data['age'] = impute_age(data)\n",
    "    data['fare'] = impute_fare(data)\n",
    "    data['embarked'] = impute_embarked(data)\n",
    "    data['sex'] = binarize_sex(data)\n",
    "    data['cabin'] = impute_cabin(data)\n",
    "    data = data.join(generate_family_features(data))\n",
    "    return data.drop(columns=['name', 'ticket'])"
   ]
  },
  {
   "cell_type": "code",
   "execution_count": 34,
   "id": "tight-czech",
   "metadata": {},
   "outputs": [
    {
     "data": {
      "text/plain": [
       "0       211.3375\n",
       "1       151.5500\n",
       "2       151.5500\n",
       "3       151.5500\n",
       "4       151.5500\n",
       "          ...   \n",
       "1304     14.4542\n",
       "1305     14.4542\n",
       "1306      7.2250\n",
       "1307      7.2250\n",
       "1308      7.8750\n",
       "Name: fare, Length: 1309, dtype: float64"
      ]
     },
     "execution_count": 34,
     "metadata": {},
     "output_type": "execute_result"
    }
   ],
   "source": [
    "impute_fare(titanic)"
   ]
  },
  {
   "cell_type": "code",
   "execution_count": 35,
   "id": "automotive-alloy",
   "metadata": {},
   "outputs": [],
   "source": [
    "features = generate_categorical_features(titanic)"
   ]
  },
  {
   "cell_type": "code",
   "execution_count": 36,
   "id": "orange-intermediate",
   "metadata": {},
   "outputs": [
    {
     "data": {
      "text/plain": [
       "(1309, 15)"
      ]
     },
     "execution_count": 36,
     "metadata": {},
     "output_type": "execute_result"
    }
   ],
   "source": [
    "features.shape"
   ]
  },
  {
   "cell_type": "code",
   "execution_count": 37,
   "id": "unauthorized-likelihood",
   "metadata": {},
   "outputs": [
    {
     "data": {
      "text/html": [
       "<div>\n",
       "<style scoped>\n",
       "    .dataframe tbody tr th:only-of-type {\n",
       "        vertical-align: middle;\n",
       "    }\n",
       "\n",
       "    .dataframe tbody tr th {\n",
       "        vertical-align: top;\n",
       "    }\n",
       "\n",
       "    .dataframe thead th {\n",
       "        text-align: right;\n",
       "    }\n",
       "</style>\n",
       "<table border=\"1\" class=\"dataframe\">\n",
       "  <thead>\n",
       "    <tr style=\"text-align: right;\">\n",
       "      <th></th>\n",
       "      <th>pclass</th>\n",
       "      <th>survived</th>\n",
       "      <th>sex</th>\n",
       "      <th>age</th>\n",
       "      <th>sibsp</th>\n",
       "      <th>parch</th>\n",
       "      <th>fare</th>\n",
       "      <th>cabin</th>\n",
       "      <th>embarked</th>\n",
       "      <th>person</th>\n",
       "      <th>title</th>\n",
       "      <th>familysize</th>\n",
       "      <th>singleton</th>\n",
       "      <th>smallfamily</th>\n",
       "      <th>largefamily</th>\n",
       "    </tr>\n",
       "  </thead>\n",
       "  <tbody>\n",
       "    <tr>\n",
       "      <th>0</th>\n",
       "      <td>1</td>\n",
       "      <td>1</td>\n",
       "      <td>0</td>\n",
       "      <td>29.0000</td>\n",
       "      <td>0</td>\n",
       "      <td>0</td>\n",
       "      <td>211.3375</td>\n",
       "      <td>B</td>\n",
       "      <td>S</td>\n",
       "      <td>female</td>\n",
       "      <td>Miss.</td>\n",
       "      <td>1</td>\n",
       "      <td>1</td>\n",
       "      <td>0</td>\n",
       "      <td>0</td>\n",
       "    </tr>\n",
       "    <tr>\n",
       "      <th>1</th>\n",
       "      <td>1</td>\n",
       "      <td>1</td>\n",
       "      <td>1</td>\n",
       "      <td>0.9167</td>\n",
       "      <td>1</td>\n",
       "      <td>2</td>\n",
       "      <td>151.5500</td>\n",
       "      <td>C</td>\n",
       "      <td>S</td>\n",
       "      <td>child</td>\n",
       "      <td>Master.</td>\n",
       "      <td>4</td>\n",
       "      <td>0</td>\n",
       "      <td>1</td>\n",
       "      <td>0</td>\n",
       "    </tr>\n",
       "    <tr>\n",
       "      <th>2</th>\n",
       "      <td>1</td>\n",
       "      <td>0</td>\n",
       "      <td>0</td>\n",
       "      <td>2.0000</td>\n",
       "      <td>1</td>\n",
       "      <td>2</td>\n",
       "      <td>151.5500</td>\n",
       "      <td>C</td>\n",
       "      <td>S</td>\n",
       "      <td>child</td>\n",
       "      <td>Miss.</td>\n",
       "      <td>4</td>\n",
       "      <td>0</td>\n",
       "      <td>1</td>\n",
       "      <td>0</td>\n",
       "    </tr>\n",
       "    <tr>\n",
       "      <th>3</th>\n",
       "      <td>1</td>\n",
       "      <td>0</td>\n",
       "      <td>1</td>\n",
       "      <td>30.0000</td>\n",
       "      <td>1</td>\n",
       "      <td>2</td>\n",
       "      <td>151.5500</td>\n",
       "      <td>C</td>\n",
       "      <td>S</td>\n",
       "      <td>male</td>\n",
       "      <td>Mr.</td>\n",
       "      <td>4</td>\n",
       "      <td>0</td>\n",
       "      <td>1</td>\n",
       "      <td>0</td>\n",
       "    </tr>\n",
       "    <tr>\n",
       "      <th>4</th>\n",
       "      <td>1</td>\n",
       "      <td>0</td>\n",
       "      <td>0</td>\n",
       "      <td>25.0000</td>\n",
       "      <td>1</td>\n",
       "      <td>2</td>\n",
       "      <td>151.5500</td>\n",
       "      <td>C</td>\n",
       "      <td>S</td>\n",
       "      <td>female</td>\n",
       "      <td>Mrs.</td>\n",
       "      <td>4</td>\n",
       "      <td>0</td>\n",
       "      <td>1</td>\n",
       "      <td>0</td>\n",
       "    </tr>\n",
       "  </tbody>\n",
       "</table>\n",
       "</div>"
      ],
      "text/plain": [
       "  pclass  survived  sex      age  sibsp  parch      fare cabin embarked  \\\n",
       "0      1         1    0  29.0000      0      0  211.3375     B        S   \n",
       "1      1         1    1   0.9167      1      2  151.5500     C        S   \n",
       "2      1         0    0   2.0000      1      2  151.5500     C        S   \n",
       "3      1         0    1  30.0000      1      2  151.5500     C        S   \n",
       "4      1         0    0  25.0000      1      2  151.5500     C        S   \n",
       "\n",
       "   person    title  familysize  singleton  smallfamily  largefamily  \n",
       "0  female    Miss.           1          1            0            0  \n",
       "1   child  Master.           4          0            1            0  \n",
       "2   child    Miss.           4          0            1            0  \n",
       "3    male      Mr.           4          0            1            0  \n",
       "4  female     Mrs.           4          0            1            0  "
      ]
     },
     "execution_count": 37,
     "metadata": {},
     "output_type": "execute_result"
    }
   ],
   "source": [
    "features.head()"
   ]
  },
  {
   "cell_type": "code",
   "execution_count": 35,
   "id": "paperback-poultry",
   "metadata": {},
   "outputs": [
    {
     "data": {
      "text/plain": [
       "survived           1.0000\n",
       "sex                0.0000\n",
       "age               29.0000\n",
       "sibsp              0.0000\n",
       "parch              0.0000\n",
       "fare             211.3375\n",
       "familysize         1.0000\n",
       "singleton          1.0000\n",
       "smallfamily        0.0000\n",
       "largefamily        0.0000\n",
       "pclass_1           1.0000\n",
       "pclass_2           0.0000\n",
       "pclass_3           0.0000\n",
       "cabin_A            0.0000\n",
       "cabin_B            1.0000\n",
       "cabin_C            0.0000\n",
       "cabin_D            0.0000\n",
       "cabin_E            0.0000\n",
       "cabin_F            0.0000\n",
       "cabin_G            0.0000\n",
       "cabin_T            0.0000\n",
       "cabin_n            0.0000\n",
       "embarked_C         0.0000\n",
       "embarked_Q         0.0000\n",
       "embarked_S         1.0000\n",
       "person_child       0.0000\n",
       "person_female      1.0000\n",
       "person_male        0.0000\n",
       "title_Master.      0.0000\n",
       "title_Miss.        1.0000\n",
       "title_Mr.          0.0000\n",
       "title_Mrs.         0.0000\n",
       "title_Rare         0.0000\n",
       "Name: 0, dtype: float64"
      ]
     },
     "execution_count": 35,
     "metadata": {},
     "output_type": "execute_result"
    }
   ],
   "source": [
    "features = pd.get_dummies(features)\n",
    "features.iloc[0]"
   ]
  },
  {
   "cell_type": "code",
   "execution_count": 38,
   "id": "continuous-archive",
   "metadata": {},
   "outputs": [],
   "source": [
    "def categorize_age(data, bins=5): \n",
    "     return pd.qcut(data.age, bins).astype('category').cat.codes\n",
    "\n",
    "def categorize_fare(data, bins=4):\n",
    "     return pd.qcut(data.fare, bins).astype('category').cat.codes"
   ]
  },
  {
   "cell_type": "code",
   "execution_count": 41,
   "id": "signed-scanner",
   "metadata": {},
   "outputs": [],
   "source": [
    "features['age_cat'] = categorize_age(features)\n",
    "features['fare_cat'] = categorize_fare(features)"
   ]
  },
  {
   "cell_type": "code",
   "execution_count": 42,
   "id": "optical-jungle",
   "metadata": {},
   "outputs": [
    {
     "data": {
      "text/html": [
       "<div>\n",
       "<style scoped>\n",
       "    .dataframe tbody tr th:only-of-type {\n",
       "        vertical-align: middle;\n",
       "    }\n",
       "\n",
       "    .dataframe tbody tr th {\n",
       "        vertical-align: top;\n",
       "    }\n",
       "\n",
       "    .dataframe thead th {\n",
       "        text-align: right;\n",
       "    }\n",
       "</style>\n",
       "<table border=\"1\" class=\"dataframe\">\n",
       "  <thead>\n",
       "    <tr style=\"text-align: right;\">\n",
       "      <th></th>\n",
       "      <th>age</th>\n",
       "      <th>age_cat</th>\n",
       "    </tr>\n",
       "  </thead>\n",
       "  <tbody>\n",
       "    <tr>\n",
       "      <th>0</th>\n",
       "      <td>29.0000</td>\n",
       "      <td>2</td>\n",
       "    </tr>\n",
       "    <tr>\n",
       "      <th>1</th>\n",
       "      <td>0.9167</td>\n",
       "      <td>0</td>\n",
       "    </tr>\n",
       "    <tr>\n",
       "      <th>2</th>\n",
       "      <td>2.0000</td>\n",
       "      <td>0</td>\n",
       "    </tr>\n",
       "    <tr>\n",
       "      <th>3</th>\n",
       "      <td>30.0000</td>\n",
       "      <td>2</td>\n",
       "    </tr>\n",
       "    <tr>\n",
       "      <th>4</th>\n",
       "      <td>25.0000</td>\n",
       "      <td>1</td>\n",
       "    </tr>\n",
       "  </tbody>\n",
       "</table>\n",
       "</div>"
      ],
      "text/plain": [
       "       age  age_cat\n",
       "0  29.0000        2\n",
       "1   0.9167        0\n",
       "2   2.0000        0\n",
       "3  30.0000        2\n",
       "4  25.0000        1"
      ]
     },
     "execution_count": 42,
     "metadata": {},
     "output_type": "execute_result"
    }
   ],
   "source": [
    "features[['age', 'age_cat']].head()"
   ]
  },
  {
   "cell_type": "code",
   "execution_count": 44,
   "id": "maritime-attribute",
   "metadata": {},
   "outputs": [],
   "source": [
    "def generate_features(data):\n",
    "    features = generate_categorical_features(data)\n",
    "    features = pd.get_dummies(features)\n",
    "    features['age_cat'] = categorize_age(features)\n",
    "    features['fare_cat'] = categorize_fare(features)\n",
    "    return features"
   ]
  },
  {
   "cell_type": "code",
   "execution_count": 45,
   "id": "aware-gnome",
   "metadata": {},
   "outputs": [],
   "source": [
    "from sklearn.ensemble import RandomForestClassifier\n",
    "from sklearn.ensemble import GradientBoostingClassifier\n",
    "from sklearn.feature_selection import SelectKBest\n",
    "from sklearn.model_selection import StratifiedKFold\n",
    "from sklearn.model_selection import GridSearchCV\n",
    "from sklearn.model_selection import cross_val_score\n",
    "from sklearn.feature_selection import SelectFromModel\n",
    "from sklearn.linear_model import LogisticRegression, LogisticRegressionCV"
   ]
  },
  {
   "cell_type": "code",
   "execution_count": 47,
   "id": "middle-engineer",
   "metadata": {},
   "outputs": [],
   "source": [
    "X = generate_features(titanic)\n",
    "train, test = train_test_split(X, test_size=0.3, shuffle=True, random_state=42)"
   ]
  },
  {
   "cell_type": "code",
   "execution_count": 48,
   "id": "paperback-denver",
   "metadata": {},
   "outputs": [],
   "source": [
    "y_train = train.survived\n",
    "X_train = train.drop(columns = 'survived').reset_index().drop(['index'], axis=1)\n",
    "y_test = test.survived\n",
    "X_test = test.drop(columns = 'survived').reset_index().drop(['index'], axis=1)"
   ]
  },
  {
   "cell_type": "code",
   "execution_count": 116,
   "id": "robust-morocco",
   "metadata": {},
   "outputs": [
    {
     "data": {
      "text/plain": [
       "((916, 34), (393, 34))"
      ]
     },
     "execution_count": 116,
     "metadata": {},
     "output_type": "execute_result"
    }
   ],
   "source": [
    "X_train.shape, X_test.shape"
   ]
  },
  {
   "cell_type": "code",
   "execution_count": 51,
   "id": "supreme-federal",
   "metadata": {},
   "outputs": [
    {
     "data": {
      "text/plain": [
       "Index(['sex', 'age', 'sibsp', 'parch', 'fare', 'familysize', 'singleton',\n",
       "       'smallfamily', 'largefamily', 'pclass_1', 'pclass_2', 'pclass_3',\n",
       "       'cabin_A', 'cabin_B', 'cabin_C', 'cabin_D', 'cabin_E', 'cabin_F',\n",
       "       'cabin_G', 'cabin_T', 'cabin_n', 'embarked_C', 'embarked_Q',\n",
       "       'embarked_S', 'person_child', 'person_female', 'person_male',\n",
       "       'title_Master.', 'title_Miss.', 'title_Mr.', 'title_Mrs.', 'title_Rare',\n",
       "       'age_cat', 'fare_cat'],\n",
       "      dtype='object')"
      ]
     },
     "execution_count": 51,
     "metadata": {},
     "output_type": "execute_result"
    }
   ],
   "source": [
    "X_train.columns"
   ]
  },
  {
   "cell_type": "code",
   "execution_count": 53,
   "id": "bound-commercial",
   "metadata": {},
   "outputs": [],
   "source": [
    "clf = RandomForestClassifier(n_estimators=50, max_features='sqrt')\n",
    "clf = clf.fit(X_train, y_train)"
   ]
  },
  {
   "cell_type": "code",
   "execution_count": 54,
   "id": "fiscal-mumbai",
   "metadata": {},
   "outputs": [
    {
     "data": {
      "text/plain": [
       "<AxesSubplot:ylabel='feature'>"
      ]
     },
     "execution_count": 54,
     "metadata": {},
     "output_type": "execute_result"
    },
    {
     "data": {
      "image/png": "[encoded data removed]",
      "text/plain": [
       "<Figure size 1800x1800 with 1 Axes>"
      ]
     },
     "metadata": {
      "needs_background": "light"
     },
     "output_type": "display_data"
    }
   ],
   "source": [
    "feature_importances = pd.DataFrame()\n",
    "feature_importances['feature'] = X_train.columns\n",
    "feature_importances['importance'] = clf.feature_importances_\n",
    "feature_importances.sort_values(by=['importance'], ascending=True, inplace=True)\n",
    "feature_importances.set_index('feature', inplace=True)\n",
    "\n",
    "feature_importances.plot(kind='barh', figsize=(25, 25))"
   ]
  },
  {
   "cell_type": "code",
   "execution_count": 55,
   "id": "alpine-undergraduate",
   "metadata": {},
   "outputs": [
    {
     "name": "stdout",
     "output_type": "stream",
     "text": [
      "(916, 9) (393, 9)\n"
     ]
    }
   ],
   "source": [
    "from sklearn.feature_selection import SelectFromModel\n",
    "model = SelectFromModel(clf, prefit=True)\n",
    "X_train = model.transform(X_train)\n",
    "X_test = model.transform(X_test)\n",
    "print(X_train.shape, X_test.shape)"
   ]
  },
  {
   "cell_type": "code",
   "execution_count": 56,
   "id": "impressed-beads",
   "metadata": {},
   "outputs": [],
   "source": [
    "from sklearn.model_selection import StratifiedKFold\n",
    "from sklearn.model_selection import GridSearchCV\n",
    "from sklearn.model_selection import cross_val_score\n",
    "from sklearn.feature_selection import SelectFromModel\n",
    "from sklearn.linear_model import LogisticRegression, LogisticRegressionCV\n",
    "\n",
    "logreg = LogisticRegression(max_iter=1e5)\n",
    "rf = RandomForestClassifier()\n",
    "gboost = GradientBoostingClassifier()\n",
    "\n",
    "models = [logreg, rf, gboost]"
   ]
  },
  {
   "cell_type": "code",
   "execution_count": 57,
   "id": "subtle-accountability",
   "metadata": {},
   "outputs": [],
   "source": [
    "cross_validation = StratifiedKFold(n_splits=5, shuffle=True, random_state=42)"
   ]
  },
  {
   "cell_type": "code",
   "execution_count": 58,
   "id": "periodic-terry",
   "metadata": {},
   "outputs": [
    {
     "name": "stdout",
     "output_type": "stream",
     "text": [
      "Cross-validation of : <class 'sklearn.linear_model._logistic.LogisticRegression'>\n",
      "CV score = 0.8056723687336659\n",
      "****\n",
      "Cross-validation of : <class 'sklearn.ensemble._forest.RandomForestClassifier'>\n",
      "CV score = 0.7903658826324543\n",
      "****\n",
      "Cross-validation of : <class 'sklearn.ensemble._gb.GradientBoostingClassifier'>\n",
      "CV score = 0.8067533856022809\n",
      "****\n"
     ]
    }
   ],
   "source": [
    "for model in models:\n",
    "    print('Cross-validation of : {0}'.format(model.__class__))\n",
    "    score = np.mean(cross_val_score(model, X_train, y_train, cv=cross_validation, scoring='accuracy'))\n",
    "    print('CV score = {0}'.format(score))\n",
    "    print('****')"
   ]
  },
  {
   "cell_type": "code",
   "execution_count": 59,
   "id": "russian-concert",
   "metadata": {},
   "outputs": [
    {
     "data": {
      "text/plain": [
       "GridSearchCV(cv=StratifiedKFold(n_splits=5, random_state=42, shuffle=True),\n",
       "             estimator=RandomForestClassifier(random_state=42),\n",
       "             param_grid={'max_depth': [3, 4, 5, 6, 7, 8],\n",
       "                         'max_features': ['auto', 'sqrt', 'log2'],\n",
       "                         'n_estimators': [100, 150, 200]})"
      ]
     },
     "execution_count": 59,
     "metadata": {},
     "output_type": "execute_result"
    }
   ],
   "source": [
    "from sklearn.model_selection import GridSearchCV\n",
    "\n",
    "rfc=RandomForestClassifier(random_state=42)\n",
    "param_grid = { \n",
    "    'n_estimators': [100, 150, 200],\n",
    "    'max_features': ['auto', 'sqrt', 'log2'],\n",
    "    'max_depth' : [3,4,5,6,7,8]}\n",
    "\n",
    "rfc_cv = GridSearchCV(estimator=rfc, param_grid=param_grid, cv=cross_validation)\n",
    "rfc_cv.fit(X_train, y_train)"
   ]
  },
  {
   "cell_type": "markdown",
   "id": "improved-ridge",
   "metadata": {},
   "source": [
    "Tuned parameters and score"
   ]
  },
  {
   "cell_type": "code",
   "execution_count": 60,
   "id": "underlying-commerce",
   "metadata": {},
   "outputs": [
    {
     "name": "stdout",
     "output_type": "stream",
     "text": [
      "Tuned Random Forest Parameters: {'max_depth': 6, 'max_features': 'auto', 'n_estimators': 200}\n",
      "Best score is 0.8263958184842005\n",
      "Score on test data is 0.7913486005089059\n"
     ]
    }
   ],
   "source": [
    "print(\"Tuned Random Forest Parameters: {}\".format(rfc_cv.best_params_))\n",
    "print(\"Best score is {}\".format(rfc_cv.best_score_))\n",
    "print(\"Score on test data is {}\".format(rfc_cv.score(X_test, y_test)))"
   ]
  },
  {
   "cell_type": "code",
   "execution_count": 61,
   "id": "casual-worship",
   "metadata": {},
   "outputs": [
    {
     "data": {
      "text/plain": [
       "array([[208,  16],\n",
       "       [ 66, 103]])"
      ]
     },
     "execution_count": 61,
     "metadata": {},
     "output_type": "execute_result"
    }
   ],
   "source": [
    "from sklearn.metrics import confusion_matrix\n",
    "# https://scikit-learn.org/stable/modules/generated/sklearn.metrics.confusion_matrix.html\n",
    "y_hat_test = rfc_cv.predict(X_test)\n",
    "confusion_matrix(y_test, y_hat_test, labels=[0,1])"
   ]
  },
  {
   "cell_type": "code",
   "execution_count": 63,
   "id": "structured-folder",
   "metadata": {},
   "outputs": [
    {
     "data": {
      "text/plain": [
       "0    224\n",
       "1    169\n",
       "Name: survived, dtype: int64"
      ]
     },
     "execution_count": 63,
     "metadata": {},
     "output_type": "execute_result"
    }
   ],
   "source": [
    "y_test.value_counts()"
   ]
  },
  {
   "cell_type": "code",
   "execution_count": 64,
   "id": "joint-kazakhstan",
   "metadata": {},
   "outputs": [],
   "source": [
    "import matplotlib.pyplot as plt\n",
    "from sklearn import metrics"
   ]
  },
  {
   "cell_type": "code",
   "execution_count": 65,
   "id": "suited-grocery",
   "metadata": {},
   "outputs": [
    {
     "name": "stdout",
     "output_type": "stream",
     "text": [
      "Confusion matrix:\n",
      "[[208  16]\n",
      " [ 66 103]]\n"
     ]
    },
    {
     "data": {
      "image/png": "[encoded data removed]",
      "text/plain": [
       "<Figure size 432x288 with 2 Axes>"
      ]
     },
     "metadata": {
      "needs_background": "light"
     },
     "output_type": "display_data"
    }
   ],
   "source": [
    "disp = metrics.plot_confusion_matrix(rfc_cv, X_test, y_test)\n",
    "disp.figure_.suptitle(\"Confusion Matrix\")\n",
    "print(f\"Confusion matrix:\\n{disp.confusion_matrix}\")\n",
    "\n",
    "plt.show()"
   ]
  },
  {
   "cell_type": "markdown",
   "id": "nuclear-accountability",
   "metadata": {},
   "source": [
    "## MNIST handwritten digits\n",
    "\n",
    "Based on sklearn documentation [example](https://scikit-learn.org/stable/auto_examples/classification/plot_digits_classification.html).\n",
    "\n",
    "The images attribute of the dataset stores 8x8 arrays of grayscale values for each image."
   ]
  },
  {
   "cell_type": "code",
   "execution_count": 69,
   "id": "aboriginal-banner",
   "metadata": {},
   "outputs": [
    {
     "data": {
      "image/png": "[encoded data removed]",
      "text/plain": [
       "<Figure size 720x216 with 4 Axes>"
      ]
     },
     "metadata": {
      "needs_background": "light"
     },
     "output_type": "display_data"
    }
   ],
   "source": [
    "import matplotlib.pyplot as plt\n",
    "from sklearn import datasets, svm\n",
    "digits = datasets.load_digits()\n",
    "\n",
    "_, axes = plt.subplots(nrows=1, ncols=4, figsize=(10, 3))\n",
    "for ax, image, label in zip(axes, digits.images, digits.target):\n",
    "    ax.set_axis_off()\n",
    "    ax.imshow(image, cmap=plt.cm.gray_r, interpolation='nearest')\n",
    "    ax.set_title('Training: %i' % label)"
   ]
  },
  {
   "cell_type": "code",
   "execution_count": 75,
   "id": "satellite-robert",
   "metadata": {},
   "outputs": [],
   "source": [
    "# flatten the images\n",
    "n_samples = len(digits.images)\n",
    "data = digits.images.reshape((n_samples, -1))\n",
    "\n",
    "# Create a classifier: a support vector classifier\n",
    "clf = svm.SVC(gamma=0.001)\n",
    "\n",
    "# Split data into 50% train and 50% test subsets\n",
    "X_train, X_test, y_train, y_test = train_test_split(\n",
    "    data, digits.target, test_size=0.5, shuffle=False)\n",
    "\n",
    "# Learn the digits on the train subset\n",
    "clf.fit(X_train, y_train)\n",
    "\n",
    "# Predict the value of the digit on the test subset\n",
    "predicted = clf.predict(X_test)"
   ]
  },
  {
   "cell_type": "code",
   "execution_count": 76,
   "id": "oriental-carrier",
   "metadata": {},
   "outputs": [
    {
     "data": {
      "image/png": "[encoded data removed]",
      "text/plain": [
       "<Figure size 720x216 with 4 Axes>"
      ]
     },
     "metadata": {
      "needs_background": "light"
     },
     "output_type": "display_data"
    }
   ],
   "source": [
    "_, axes = plt.subplots(nrows=1, ncols=4, figsize=(10, 3))\n",
    "for ax, image, prediction in zip(axes, X_test, predicted):\n",
    "    ax.set_axis_off()\n",
    "    image = image.reshape(8, 8)\n",
    "    ax.imshow(image, cmap=plt.cm.gray_r, interpolation='nearest')\n",
    "    ax.set_title(f'Prediction: {prediction}')"
   ]
  },
  {
   "cell_type": "code",
   "execution_count": 77,
   "id": "saving-think",
   "metadata": {},
   "outputs": [
    {
     "name": "stdout",
     "output_type": "stream",
     "text": [
      "Classification report for classifier SVC(gamma=0.001):\n",
      "              precision    recall  f1-score   support\n",
      "\n",
      "           0       1.00      0.99      0.99        88\n",
      "           1       0.99      0.97      0.98        91\n",
      "           2       0.99      0.99      0.99        86\n",
      "           3       0.98      0.87      0.92        91\n",
      "           4       0.99      0.96      0.97        92\n",
      "           5       0.95      0.97      0.96        91\n",
      "           6       0.99      0.99      0.99        91\n",
      "           7       0.96      0.99      0.97        89\n",
      "           8       0.94      1.00      0.97        88\n",
      "           9       0.93      0.98      0.95        92\n",
      "\n",
      "    accuracy                           0.97       899\n",
      "   macro avg       0.97      0.97      0.97       899\n",
      "weighted avg       0.97      0.97      0.97       899\n",
      "\n",
      "\n"
     ]
    }
   ],
   "source": [
    "print(f\"Classification report for classifier {clf}:\\n\"\n",
    "      f\"{metrics.classification_report(y_test, predicted)}\\n\")"
   ]
  },
  {
   "cell_type": "code",
   "execution_count": 78,
   "id": "automotive-tanzania",
   "metadata": {},
   "outputs": [
    {
     "name": "stdout",
     "output_type": "stream",
     "text": [
      "Confusion matrix:\n",
      "[[87  0  0  0  1  0  0  0  0  0]\n",
      " [ 0 88  1  0  0  0  0  0  1  1]\n",
      " [ 0  0 85  1  0  0  0  0  0  0]\n",
      " [ 0  0  0 79  0  3  0  4  5  0]\n",
      " [ 0  0  0  0 88  0  0  0  0  4]\n",
      " [ 0  0  0  0  0 88  1  0  0  2]\n",
      " [ 0  1  0  0  0  0 90  0  0  0]\n",
      " [ 0  0  0  0  0  1  0 88  0  0]\n",
      " [ 0  0  0  0  0  0  0  0 88  0]\n",
      " [ 0  0  0  1  0  1  0  0  0 90]]\n"
     ]
    },
    {
     "data": {
      "image/png": "[encoded data removed]",
      "text/plain": [
       "<Figure size 432x288 with 2 Axes>"
      ]
     },
     "metadata": {
      "needs_background": "light"
     },
     "output_type": "display_data"
    }
   ],
   "source": [
    "disp = metrics.plot_confusion_matrix(clf, X_test, y_test)\n",
    "disp.figure_.suptitle(\"Confusion Matrix\")\n",
    "print(f\"Confusion matrix:\\n{disp.confusion_matrix}\")\n",
    "\n",
    "plt.show()"
   ]
  }
 ],
 "metadata": {
  "kernelspec": {
   "display_name": "Python 3",
   "language": "python",
   "name": "python3"
  },
  "language_info": {
   "codemirror_mode": {
    "name": "ipython",
    "version": 3
   },
   "file_extension": ".py",
   "mimetype": "text/x-python",
   "name": "python",
   "nbconvert_exporter": "python",
   "pygments_lexer": "ipython3",
   "version": "3.8.5"
  }
 },
 "nbformat": 4,
 "nbformat_minor": 5
}
