{
 "cells": [
  {
   "cell_type": "markdown",
   "id": "industrial-facing",
   "metadata": {},
   "source": [
    "# Week 5 - An introduction to machine learning (Part I) - Solutions\n",
    "\n",
    "## Exercises\n",
    "\n",
    "We will work with the built-in `sklearn.datasets` diabetes dataset.\n",
    "\n",
    "This dataset comprises 442 diabetes patients, each with ten baseline predictors: age, sex, body mass index, average blood pressure, and six blood serum measurements. The response variable is measure of disease progression one year after baseline. (Note that it is not neccessary to transform any of these variables prior to training the model - everything is all ready to go straight into `sklearn`.)"
   ]
  },
  {
   "cell_type": "code",
   "execution_count": 21,
   "id": "completed-satellite",
   "metadata": {},
   "outputs": [
    {
     "data": {
      "text/html": [
       "<div>\n",
       "<style scoped>\n",
       "    .dataframe tbody tr th:only-of-type {\n",
       "        vertical-align: middle;\n",
       "    }\n",
       "\n",
       "    .dataframe tbody tr th {\n",
       "        vertical-align: top;\n",
       "    }\n",
       "\n",
       "    .dataframe thead th {\n",
       "        text-align: right;\n",
       "    }\n",
       "</style>\n",
       "<table border=\"1\" class=\"dataframe\">\n",
       "  <thead>\n",
       "    <tr style=\"text-align: right;\">\n",
       "      <th></th>\n",
       "      <th>age</th>\n",
       "      <th>sex</th>\n",
       "      <th>bmi</th>\n",
       "      <th>bp</th>\n",
       "      <th>s1</th>\n",
       "      <th>s2</th>\n",
       "      <th>s3</th>\n",
       "      <th>s4</th>\n",
       "      <th>s5</th>\n",
       "      <th>s6</th>\n",
       "    </tr>\n",
       "  </thead>\n",
       "  <tbody>\n",
       "    <tr>\n",
       "      <th>0</th>\n",
       "      <td>0.038076</td>\n",
       "      <td>0.050680</td>\n",
       "      <td>0.061696</td>\n",
       "      <td>0.021872</td>\n",
       "      <td>-0.044223</td>\n",
       "      <td>-0.034821</td>\n",
       "      <td>-0.043401</td>\n",
       "      <td>-0.002592</td>\n",
       "      <td>0.019908</td>\n",
       "      <td>-0.017646</td>\n",
       "    </tr>\n",
       "    <tr>\n",
       "      <th>1</th>\n",
       "      <td>-0.001882</td>\n",
       "      <td>-0.044642</td>\n",
       "      <td>-0.051474</td>\n",
       "      <td>-0.026328</td>\n",
       "      <td>-0.008449</td>\n",
       "      <td>-0.019163</td>\n",
       "      <td>0.074412</td>\n",
       "      <td>-0.039493</td>\n",
       "      <td>-0.068330</td>\n",
       "      <td>-0.092204</td>\n",
       "    </tr>\n",
       "    <tr>\n",
       "      <th>2</th>\n",
       "      <td>0.085299</td>\n",
       "      <td>0.050680</td>\n",
       "      <td>0.044451</td>\n",
       "      <td>-0.005671</td>\n",
       "      <td>-0.045599</td>\n",
       "      <td>-0.034194</td>\n",
       "      <td>-0.032356</td>\n",
       "      <td>-0.002592</td>\n",
       "      <td>0.002864</td>\n",
       "      <td>-0.025930</td>\n",
       "    </tr>\n",
       "    <tr>\n",
       "      <th>3</th>\n",
       "      <td>-0.089063</td>\n",
       "      <td>-0.044642</td>\n",
       "      <td>-0.011595</td>\n",
       "      <td>-0.036656</td>\n",
       "      <td>0.012191</td>\n",
       "      <td>0.024991</td>\n",
       "      <td>-0.036038</td>\n",
       "      <td>0.034309</td>\n",
       "      <td>0.022692</td>\n",
       "      <td>-0.009362</td>\n",
       "    </tr>\n",
       "    <tr>\n",
       "      <th>4</th>\n",
       "      <td>0.005383</td>\n",
       "      <td>-0.044642</td>\n",
       "      <td>-0.036385</td>\n",
       "      <td>0.021872</td>\n",
       "      <td>0.003935</td>\n",
       "      <td>0.015596</td>\n",
       "      <td>0.008142</td>\n",
       "      <td>-0.002592</td>\n",
       "      <td>-0.031991</td>\n",
       "      <td>-0.046641</td>\n",
       "    </tr>\n",
       "  </tbody>\n",
       "</table>\n",
       "</div>"
      ],
      "text/plain": [
       "        age       sex       bmi        bp        s1        s2        s3  \\\n",
       "0  0.038076  0.050680  0.061696  0.021872 -0.044223 -0.034821 -0.043401   \n",
       "1 -0.001882 -0.044642 -0.051474 -0.026328 -0.008449 -0.019163  0.074412   \n",
       "2  0.085299  0.050680  0.044451 -0.005671 -0.045599 -0.034194 -0.032356   \n",
       "3 -0.089063 -0.044642 -0.011595 -0.036656  0.012191  0.024991 -0.036038   \n",
       "4  0.005383 -0.044642 -0.036385  0.021872  0.003935  0.015596  0.008142   \n",
       "\n",
       "         s4        s5        s6  \n",
       "0 -0.002592  0.019908 -0.017646  \n",
       "1 -0.039493 -0.068330 -0.092204  \n",
       "2 -0.002592  0.002864 -0.025930  \n",
       "3  0.034309  0.022692 -0.009362  \n",
       "4 -0.002592 -0.031991 -0.046641  "
      ]
     },
     "execution_count": 21,
     "metadata": {},
     "output_type": "execute_result"
    }
   ],
   "source": [
    "import pandas as pd\n",
    "import plotnine as p9\n",
    "from sklearn import datasets\n",
    "import sklearn.linear_model as linear\n",
    "\n",
    "diabetes_dataset = datasets.load_diabetes()\n",
    "predictors = pd.DataFrame(data=diabetes_dataset.data, columns=diabetes_dataset.feature_names)\n",
    "response = diabetes_dataset.target\n",
    "\n",
    "predictors.head()"
   ]
  },
  {
   "cell_type": "code",
   "execution_count": 132,
   "id": "valued-envelope",
   "metadata": {},
   "outputs": [
    {
     "name": "stdout",
     "output_type": "stream",
     "text": [
      ".. _diabetes_dataset:\n",
      "\n",
      "Diabetes dataset\n",
      "----------------\n",
      "\n",
      "Ten baseline variables, age, sex, body mass index, average blood\n",
      "pressure, and six blood serum measurements were obtained for each of n =\n",
      "442 diabetes patients, as well as the response of interest, a\n",
      "quantitative measure of disease progression one year after baseline.\n",
      "\n",
      "**Data Set Characteristics:**\n",
      "\n",
      "  :Number of Instances: 442\n",
      "\n",
      "  :Number of Attributes: First 10 columns are numeric predictive values\n",
      "\n",
      "  :Target: Column 11 is a quantitative measure of disease progression one year after baseline\n",
      "\n",
      "  :Attribute Information:\n",
      "      - age     age in years\n",
      "      - sex\n",
      "      - bmi     body mass index\n",
      "      - bp      average blood pressure\n",
      "      - s1      tc, T-Cells (a type of white blood cells)\n",
      "      - s2      ldl, low-density lipoproteins\n",
      "      - s3      hdl, high-density lipoproteins\n",
      "      - s4      tch, thyroid stimulating hormone\n",
      "      - s5      ltg, lamotrigine\n",
      "      - s6      glu, blood sugar level\n",
      "\n",
      "Note: Each of these 10 feature variables have been mean centered and scaled by the standard deviation times `n_samples` (i.e. the sum of squares of each column totals 1).\n",
      "\n",
      "Source URL:\n",
      "https://www4.stat.ncsu.edu/~boos/var.select/diabetes.html\n",
      "\n",
      "For more information see:\n",
      "Bradley Efron, Trevor Hastie, Iain Johnstone and Robert Tibshirani (2004) \"Least Angle Regression,\" Annals of Statistics (with discussion), 407-499.\n",
      "(https://web.stanford.edu/~hastie/Papers/LARS/LeastAngle_2002.pdf)\n"
     ]
    }
   ],
   "source": [
    "print(diabetes_dataset.DESCR)"
   ]
  },
  {
   "cell_type": "code",
   "execution_count": 133,
   "id": "sixth-equity",
   "metadata": {},
   "outputs": [
    {
     "data": {
      "image/png": "[encoded data removed]",
      "text/plain": [
       "<Figure size 640x480 with 1 Axes>"
      ]
     },
     "metadata": {},
     "output_type": "display_data"
    },
    {
     "data": {
      "text/plain": [
       "<ggplot: (8763777073553)>"
      ]
     },
     "execution_count": 133,
     "metadata": {},
     "output_type": "execute_result"
    }
   ],
   "source": [
    "response_dataframe = pd.DataFrame({\"response\": response})\n",
    "(\n",
    "    p9.ggplot(response_dataframe, p9.aes('response'))\n",
    "    # specify a histogram\n",
    "    + p9.geom_histogram(bins=20)\n",
    ")"
   ]
  },
  {
   "cell_type": "markdown",
   "id": "tough-guidance",
   "metadata": {},
   "source": [
    "### Exercise 1a\n",
    "\n",
    "Using sklearn, fit a multivariate linear regression using all 442 samples to predict the response variable. Use all 10 predictors, and also score your model using predictions on all 442 samples."
   ]
  },
  {
   "cell_type": "code",
   "execution_count": 29,
   "id": "japanese-sacrifice",
   "metadata": {},
   "outputs": [
    {
     "data": {
      "text/plain": [
       "(152.1334841628965,\n",
       " array([ -10.01219782, -239.81908937,  519.83978679,  324.39042769,\n",
       "        -792.18416163,  476.74583782,  101.04457032,  177.06417623,\n",
       "         751.27932109,   67.62538639]))"
      ]
     },
     "execution_count": 29,
     "metadata": {},
     "output_type": "execute_result"
    }
   ],
   "source": [
    "# Instantiate the model\n",
    "model = linear.LinearRegression()\n",
    "# Fit the pipeline\n",
    "model.fit(X=predictors, y=response)\n",
    "\n",
    "# Inspect the fit regression coefficients and intercept\n",
    "model.intercept_, model.coef_"
   ]
  },
  {
   "cell_type": "markdown",
   "id": "secret-berkeley",
   "metadata": {},
   "source": [
    "Now score our model using the same dataset we used to fit the model."
   ]
  },
  {
   "cell_type": "code",
   "execution_count": 30,
   "id": "killing-timer",
   "metadata": {},
   "outputs": [
    {
     "data": {
      "text/plain": [
       "0.5177494254132934"
      ]
     },
     "execution_count": 30,
     "metadata": {},
     "output_type": "execute_result"
    }
   ],
   "source": [
    "model.score(X=predictors, y=response)"
   ]
  },
  {
   "cell_type": "code",
   "execution_count": 34,
   "id": "vital-falls",
   "metadata": {},
   "outputs": [
    {
     "data": {
      "image/png": "[encoded data removed]",
      "text/plain": [
       "<Figure size 640x480 with 1 Axes>"
      ]
     },
     "metadata": {},
     "output_type": "display_data"
    },
    {
     "data": {
      "text/plain": [
       "<ggplot: (8763775425783)>"
      ]
     },
     "execution_count": 34,
     "metadata": {},
     "output_type": "execute_result"
    }
   ],
   "source": [
    "import numpy as np\n",
    "response_predicted = model.predict(X=predictors)\n",
    "residuals = pd.DataFrame({'residuals': np.abs(response - response_predicted)})\n",
    "(\n",
    "# the aes object contains only the variable that will be plotted on the x axis i.e. the one for which we want to generate a distribution\n",
    "p9.ggplot(residuals, p9.aes('residuals'))\n",
    "    # specify a histogram\n",
    "    + p9.geom_histogram(bins=20)\n",
    ")"
   ]
  },
  {
   "cell_type": "markdown",
   "id": "separate-texas",
   "metadata": {},
   "source": [
    "### Exercise 1b\n",
    "\n",
    "Do a test-train split, and run _Exercise 1a_ again, this time fitting your model with the training set, and scoring it both with the test set and with the training set.\n",
    "\n"
   ]
  },
  {
   "cell_type": "code",
   "execution_count": 1,
   "id": "backed-paper",
   "metadata": {},
   "outputs": [
    {
     "ename": "NameError",
     "evalue": "name 'predictors' is not defined",
     "output_type": "error",
     "traceback": [
      "\u001b[0;31m---------------------------------------------------------------------------\u001b[0m",
      "\u001b[0;31mNameError\u001b[0m                                 Traceback (most recent call last)",
      "\u001b[0;32m<ipython-input-1-a1c70b7b166c>\u001b[0m in \u001b[0;36m<module>\u001b[0;34m\u001b[0m\n\u001b[1;32m      1\u001b[0m \u001b[0;32mfrom\u001b[0m \u001b[0msklearn\u001b[0m\u001b[0;34m.\u001b[0m\u001b[0mmodel_selection\u001b[0m \u001b[0;32mimport\u001b[0m \u001b[0mtrain_test_split\u001b[0m\u001b[0;34m\u001b[0m\u001b[0;34m\u001b[0m\u001b[0m\n\u001b[0;32m----> 2\u001b[0;31m \u001b[0mpredictors_train\u001b[0m\u001b[0;34m,\u001b[0m \u001b[0mpredictors_test\u001b[0m \u001b[0;34m=\u001b[0m \u001b[0mtrain_test_split\u001b[0m\u001b[0;34m(\u001b[0m\u001b[0mpredictors\u001b[0m\u001b[0;34m,\u001b[0m \u001b[0mtest_size\u001b[0m\u001b[0;34m=\u001b[0m\u001b[0;36m0.3\u001b[0m\u001b[0;34m,\u001b[0m \u001b[0mrandom_state\u001b[0m\u001b[0;34m=\u001b[0m\u001b[0;36m42\u001b[0m\u001b[0;34m,\u001b[0m \u001b[0mshuffle\u001b[0m\u001b[0;34m=\u001b[0m\u001b[0;32mTrue\u001b[0m\u001b[0;34m)\u001b[0m\u001b[0;34m\u001b[0m\u001b[0;34m\u001b[0m\u001b[0m\n\u001b[0m\u001b[1;32m      3\u001b[0m \u001b[0mresponse_train\u001b[0m\u001b[0;34m,\u001b[0m \u001b[0mresponse_test\u001b[0m \u001b[0;34m=\u001b[0m \u001b[0mtrain_test_split\u001b[0m\u001b[0;34m(\u001b[0m\u001b[0mresponse\u001b[0m\u001b[0;34m,\u001b[0m \u001b[0mtest_size\u001b[0m\u001b[0;34m=\u001b[0m\u001b[0;36m0.3\u001b[0m\u001b[0;34m,\u001b[0m \u001b[0mrandom_state\u001b[0m\u001b[0;34m=\u001b[0m\u001b[0;36m42\u001b[0m\u001b[0;34m,\u001b[0m \u001b[0mshuffle\u001b[0m\u001b[0;34m=\u001b[0m\u001b[0;32mTrue\u001b[0m\u001b[0;34m)\u001b[0m\u001b[0;34m\u001b[0m\u001b[0;34m\u001b[0m\u001b[0m\n",
      "\u001b[0;31mNameError\u001b[0m: name 'predictors' is not defined"
     ]
    }
   ],
   "source": [
    "from sklearn.model_selection import train_test_split\n",
    "predictors_train, predictors_test = train_test_split(predictors, test_size=0.3, random_state=42, shuffle=True)\n",
    "response_train, response_test = train_test_split(response, test_size=0.3, random_state=42, shuffle=True)"
   ]
  },
  {
   "cell_type": "code",
   "execution_count": 136,
   "id": "latter-adelaide",
   "metadata": {},
   "outputs": [
    {
     "data": {
      "text/plain": [
       "(152.68215576594528,\n",
       " array([  -3.89994262, -267.20726163,  547.2428539 ,  279.6840414 ,\n",
       "        -394.02524002,  115.31952954,  -28.18780172,  183.22398716,\n",
       "         627.70958412,  105.8876159 ]))"
      ]
     },
     "execution_count": 136,
     "metadata": {},
     "output_type": "execute_result"
    }
   ],
   "source": [
    "# Instantiate the model\n",
    "model = linear.LinearRegression()\n",
    "# Fit the pipeline\n",
    "model.fit(X=predictors_train, y=response_train)\n",
    "# Inspect the fit regression coefficients and intercept\n",
    "model.intercept_, model.coef_"
   ]
  },
  {
   "cell_type": "markdown",
   "id": "vertical-danger",
   "metadata": {},
   "source": [
    "#### Intercept before\n",
    "(152.1334841628965,\n",
    " array([ -10.01219782, -239.81908937,  519.83978679,  324.39042769,\n",
    "        -792.18416163,  476.74583782,  101.04457032,  177.06417623,\n",
    "         751.27932109,   67.62538639]))"
   ]
  },
  {
   "cell_type": "markdown",
   "id": "smaller-animation",
   "metadata": {},
   "source": [
    "Now score our model using the _test_ set.\n",
    "\n"
   ]
  },
  {
   "cell_type": "code",
   "execution_count": 138,
   "id": "conservative-timber",
   "metadata": {},
   "outputs": [
    {
     "data": {
      "text/plain": [
       "0.5172474671249085"
      ]
     },
     "execution_count": 138,
     "metadata": {},
     "output_type": "execute_result"
    }
   ],
   "source": [
    "model.score(X=predictors_test, y=response_test)"
   ]
  },
  {
   "cell_type": "code",
   "execution_count": 139,
   "id": "copyrighted-beauty",
   "metadata": {},
   "outputs": [
    {
     "data": {
      "image/png": "[encoded data removed]",
      "text/plain": [
       "<Figure size 640x480 with 1 Axes>"
      ]
     },
     "metadata": {},
     "output_type": "display_data"
    },
    {
     "data": {
      "text/plain": [
       "<ggplot: (8763775605041)>"
      ]
     },
     "execution_count": 139,
     "metadata": {},
     "output_type": "execute_result"
    }
   ],
   "source": [
    "response_predicted = model.predict(X=predictors_test)\n",
    "residuals = pd.DataFrame({'residuals': np.abs(response_test - response_predicted)})\n",
    "(\n",
    "# the aes object contains only the variable that will be plotted on the x axis i.e. the one for which we want to generate a distribution\n",
    "p9.ggplot(residuals, p9.aes('residuals'))\n",
    "    # specify a histogram\n",
    "    + p9.geom_histogram(bins=20)\n",
    ")"
   ]
  },
  {
   "cell_type": "code",
   "execution_count": 140,
   "id": "linear-prototype",
   "metadata": {},
   "outputs": [
    {
     "data": {
      "image/png": "[encoded data removed]",
      "text/plain": [
       "<Figure size 640x480 with 1 Axes>"
      ]
     },
     "metadata": {},
     "output_type": "display_data"
    },
    {
     "data": {
      "text/plain": [
       "<ggplot: (8763775227353)>"
      ]
     },
     "execution_count": 140,
     "metadata": {},
     "output_type": "execute_result"
    }
   ],
   "source": [
    "# Display the results as a scatter plot\n",
    "predictions = pd.DataFrame({'y': response_test, 'y_hat': response_predicted}) # plotnine works with pd.DataFrame\n",
    "\n",
    "(\n",
    "p9.ggplot(predictions, p9.aes('y', 'y_hat'))\n",
    "    + p9.geom_point()\n",
    "    + p9.scales.xlim(0, 400)\n",
    "    + p9.scales.ylim(0, 400)\n",
    ") # plotnine will emit a `PlotnineWarning` indicating that we have cropped some points from our plot"
   ]
  },
  {
   "cell_type": "markdown",
   "id": "cleared-porcelain",
   "metadata": {},
   "source": [
    "### Exercise 1c\n",
    "\n",
    "As with Exercise 1b, but this time try using the SVM ('linear' and 'rbf') and RandomForestRegressor instead. How do your results compare? Try just using one or two predictors \n",
    "\n"
   ]
  },
  {
   "cell_type": "code",
   "execution_count": 163,
   "id": "retired-samba",
   "metadata": {},
   "outputs": [
    {
     "data": {
      "text/plain": [
       "SVR(C=1000.0, gamma=0.3)"
      ]
     },
     "execution_count": 163,
     "metadata": {},
     "output_type": "execute_result"
    }
   ],
   "source": [
    "from sklearn import svm, ensemble\n",
    "#model = linear.LinearRegression()\n",
    "model = svm.SVR(kernel='rbf', C=1e3, gamma=0.3)\n",
    "#model = ensemble.RandomForestRegressor(n_estimators=100, max_depth=3)\n",
    "model.fit(X=predictors_train, y=response_train)"
   ]
  },
  {
   "cell_type": "code",
   "execution_count": 161,
   "id": "unnecessary-paraguay",
   "metadata": {},
   "outputs": [
    {
     "data": {
      "image/png": "[encoded data removed]",
      "text/plain": [
       "<Figure size 640x480 with 1 Axes>"
      ]
     },
     "metadata": {},
     "output_type": "display_data"
    },
    {
     "data": {
      "text/plain": [
       "<ggplot: (8763774514836)>"
      ]
     },
     "execution_count": 161,
     "metadata": {},
     "output_type": "execute_result"
    }
   ],
   "source": [
    "response_predicted = model.predict(X=predictors_test)\n",
    "residuals = pd.DataFrame({'residuals': np.abs(response_test - response_predicted)})\n",
    "(\n",
    "    p9.ggplot(residuals, p9.aes('residuals'))\n",
    "    + p9.geom_histogram(bins=20)\n",
    ")"
   ]
  },
  {
   "cell_type": "markdown",
   "id": "posted-conservative",
   "metadata": {},
   "source": [
    "A little bit of experimentation with C and gamma means we now beat the linear model - just!"
   ]
  },
  {
   "cell_type": "code",
   "execution_count": 165,
   "id": "becoming-liberty",
   "metadata": {},
   "outputs": [
    {
     "data": {
      "text/plain": [
       "0.5170546215560003"
      ]
     },
     "execution_count": 165,
     "metadata": {},
     "output_type": "execute_result"
    }
   ],
   "source": [
    "model.score(X=predictors_test, y=response_test)"
   ]
  },
  {
   "cell_type": "code",
   "execution_count": 166,
   "id": "weighted-island",
   "metadata": {},
   "outputs": [
    {
     "name": "stderr",
     "output_type": "stream",
     "text": [
      "/Users/ktmx283/opt/anaconda3/envs/202101-data-science-python/lib/python3.8/site-packages/plotnine/layer.py:467: PlotnineWarning: geom_point : Removed 5 rows containing missing values.\n"
     ]
    },
    {
     "data": {
      "image/png": "[encoded data removed]",
      "text/plain": [
       "<Figure size 640x480 with 1 Axes>"
      ]
     },
     "metadata": {},
     "output_type": "display_data"
    },
    {
     "data": {
      "text/plain": [
       "<ggplot: (8763777074640)>"
      ]
     },
     "execution_count": 166,
     "metadata": {},
     "output_type": "execute_result"
    }
   ],
   "source": [
    "# Display the results\n",
    "predictions = pd.DataFrame({'y': response_test, 'y_hat': response_predicted}) # plotnine works with pd.DataFrame\n",
    "\n",
    "(\n",
    "p9.ggplot(predictions, p9.aes('y', 'y_hat'))\n",
    "    + p9.geom_point()\n",
    "    + p9.scales.xlim(0, 300)\n",
    "    + p9.scales.ylim(0, 300)\n",
    ")"
   ]
  },
  {
   "cell_type": "markdown",
   "id": "greenhouse-visitor",
   "metadata": {},
   "source": [
    "### Exercise 1d (more technical)\n",
    "\n",
    "If you're feeling so inclined, dive into the documentation of [RandomForestRegressor](https://scikit-learn.org/stable/modules/generated/sklearn.ensemble.RandomForestRegressor.html) and try tweaking some of the _hyperparameters_ to see how this affects your model score on the training and test datasets ('n_estimators' and 'max_depth' are good places to start). If you want do delve deeper this [blog post](https://towardsdatascience.com/hyperparameter-tuning-the-random-forest-in-python-using-scikit-learn-28d2aa77dd74) is a nice introduction to the concepts of _cross-validation_ and _hyperparameter tuning_ (more on this next week though!)."
   ]
  },
  {
   "cell_type": "code",
   "execution_count": 228,
   "id": "noted-tokyo",
   "metadata": {},
   "outputs": [],
   "source": [
    "n_estimators_min, n_estimators_max = 2, 100\n",
    "max_depth_min, max_depth_max = 2, 10"
   ]
  },
  {
   "cell_type": "code",
   "execution_count": 229,
   "id": "extra-dublin",
   "metadata": {},
   "outputs": [],
   "source": [
    "grid_parameters = np.mgrid[n_estimators_min - 1:n_estimators_max + 1:20j,  max_depth_min - 1:max_depth_max + 1:9j]\n",
    "parameters = grid_parameters.reshape((2, -1)).T"
   ]
  },
  {
   "cell_type": "code",
   "execution_count": 230,
   "id": "serious-hierarchy",
   "metadata": {},
   "outputs": [],
   "source": [
    "scores = np.empty(parameters.shape[0])\n",
    "for i, (n_estimators, max_depth) in enumerate(parameters):\n",
    "    model = ensemble.RandomForestRegressor(n_estimators=int(n_estimators), max_depth=int(max_depth))\n",
    "    model.fit(X=predictors_train, y=response_train)\n",
    "    scores[i] = model.score(X=predictors_test, y=response_test)"
   ]
  },
  {
   "cell_type": "code",
   "execution_count": 231,
   "id": "protecting-relative",
   "metadata": {},
   "outputs": [],
   "source": [
    "scores = np.reshape(scores, (20, 9))"
   ]
  },
  {
   "cell_type": "markdown",
   "id": "directed-solomon",
   "metadata": {},
   "source": [
    "Display the predictions"
   ]
  },
  {
   "cell_type": "code",
   "execution_count": 232,
   "id": "stone-mountain",
   "metadata": {},
   "outputs": [
    {
     "data": {
      "text/plain": [
       "<matplotlib.colorbar.Colorbar at 0x7f879c1afca0>"
      ]
     },
     "execution_count": 232,
     "metadata": {},
     "output_type": "execute_result"
    },
    {
     "data": {
      "image/png": "[encoded data removed]",
      "text/plain": [
       "<Figure size 432x324 with 2 Axes>"
      ]
     },
     "metadata": {
      "needs_background": "light"
     },
     "output_type": "display_data"
    }
   ],
   "source": [
    "import matplotlib.pyplot as plt\n",
    "\n",
    "fig = plt.figure(figsize=(6, 4.5))\n",
    "ax = fig.add_subplot()\n",
    "ax.set_ylabel('max_depth')\n",
    "ax.set_xlabel('n_estimators')\n",
    "score_min, score_max = scores.min(), scores.max()\n",
    "plot = ax.imshow(\n",
    "    np.rot90(scores),\n",
    "    vmin=score_min,\n",
    "    vmax=score_max,\n",
    "    aspect='auto',\n",
    "    extent=(n_estimators_min - 1, n_estimators_max, max_depth_min - 1, max_depth_max),\n",
    "    cmap=plt.cm.viridis)\n",
    "\n",
    "fig.colorbar(plot, ax=ax)"
   ]
  },
  {
   "cell_type": "markdown",
   "id": "requested-billy",
   "metadata": {},
   "source": [
    "### Exercise 2\n",
    "\n",
    "As a bit of pre-reading for next week, have a read through the [Kaggle Titanic](https://www.kaggle.com/c/titanic) prediction competition blurb (watch the video too). The [discussion forum](https://www.kaggle.com/c/titanic/discussion) is full of interesting beginner material too."
   ]
  }
 ],
 "metadata": {
  "kernelspec": {
   "display_name": "Python 3",
   "language": "python",
   "name": "python3"
  },
  "language_info": {
   "codemirror_mode": {
    "name": "ipython",
    "version": 3
   },
   "file_extension": ".py",
   "mimetype": "text/x-python",
   "name": "python",
   "nbconvert_exporter": "python",
   "pygments_lexer": "ipython3",
   "version": "3.8.5"
  }
 },
 "nbformat": 4,
 "nbformat_minor": 5
}
